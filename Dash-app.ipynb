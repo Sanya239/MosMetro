{
 "cells": [
  {
   "cell_type": "code",
   "id": "initial_id",
   "metadata": {
    "collapsed": true,
    "ExecuteTime": {
     "end_time": "2025-05-29T14:37:31.990146Z",
     "start_time": "2025-05-29T14:37:31.986112Z"
    }
   },
   "source": [
    "import time\n",
    "\n",
    "data_folder = 'data1/'\n",
    "csv_path = data_folder + \"PASS_ALL_202503242210.csv\"  # путь к жирному файлу\n",
    "\n",
    "parquet_path = csv_path.replace('.csv', '.parquet')\n",
    "print(f\"Последний запуск {time.ctime()}\")\n"
   ],
   "outputs": [
    {
     "name": "stdout",
     "output_type": "stream",
     "text": [
      "Последний запуск Thu May 29 17:37:31 2025\n"
     ]
    }
   ],
   "execution_count": 314
  },
  {
   "metadata": {
    "ExecuteTime": {
     "end_time": "2025-05-29T14:37:33.972779Z",
     "start_time": "2025-05-29T14:37:32.036867Z"
    }
   },
   "cell_type": "code",
   "source": [
    "import sys\n",
    "!{sys.executable} -m pip install pyarrow duckdb polars plotly jupyter_dash dash --upgrade\n",
    "# зависимости\n",
    "print(\"Проверка зависимостей\")\n",
    "\n",
    "import duckdb\n",
    "import polars as pl\n",
    "import plotly\n",
    "import jupyter_dash\n",
    "\n",
    "print(\"DuckDB OK:\", duckdb.__version__)\n",
    "print(\"Polars OK:\", pl.__version__)\n",
    "print(\"Plotly OK:\", plotly.__version__)\n",
    "print(\"Jupiter_dash OK:\", jupyter_dash.__version__)\n"
   ],
   "id": "e70f9e60b40a2a24",
   "outputs": [
    {
     "name": "stdout",
     "output_type": "stream",
     "text": [
      "Requirement already satisfied: pyarrow in ./.venv/lib/python3.13/site-packages (20.0.0)\r\n",
      "Requirement already satisfied: duckdb in ./.venv/lib/python3.13/site-packages (1.3.0)\r\n",
      "Requirement already satisfied: polars in ./.venv/lib/python3.13/site-packages (1.30.0)\r\n",
      "Requirement already satisfied: plotly in ./.venv/lib/python3.13/site-packages (6.1.2)\r\n",
      "Requirement already satisfied: jupyter_dash in ./.venv/lib/python3.13/site-packages (0.4.2)\r\n",
      "Requirement already satisfied: dash in ./.venv/lib/python3.13/site-packages (3.0.4)\r\n",
      "Requirement already satisfied: narwhals>=1.15.1 in ./.venv/lib/python3.13/site-packages (from plotly) (1.40.0)\r\n",
      "Requirement already satisfied: packaging in ./.venv/lib/python3.13/site-packages (from plotly) (25.0)\r\n",
      "Requirement already satisfied: requests in ./.venv/lib/python3.13/site-packages (from jupyter_dash) (2.32.3)\r\n",
      "Requirement already satisfied: flask in ./.venv/lib/python3.13/site-packages (from jupyter_dash) (3.0.3)\r\n",
      "Requirement already satisfied: retrying in ./.venv/lib/python3.13/site-packages (from jupyter_dash) (1.3.4)\r\n",
      "Requirement already satisfied: ipython in ./.venv/lib/python3.13/site-packages (from jupyter_dash) (9.2.0)\r\n",
      "Requirement already satisfied: ipykernel in ./.venv/lib/python3.13/site-packages (from jupyter_dash) (6.29.5)\r\n",
      "Requirement already satisfied: ansi2html in ./.venv/lib/python3.13/site-packages (from jupyter_dash) (1.9.2)\r\n",
      "Requirement already satisfied: nest-asyncio in ./.venv/lib/python3.13/site-packages (from jupyter_dash) (1.6.0)\r\n",
      "Requirement already satisfied: Werkzeug<3.1 in ./.venv/lib/python3.13/site-packages (from dash) (3.0.6)\r\n",
      "Requirement already satisfied: importlib-metadata in ./.venv/lib/python3.13/site-packages (from dash) (8.7.0)\r\n",
      "Requirement already satisfied: typing-extensions>=4.1.1 in ./.venv/lib/python3.13/site-packages (from dash) (4.13.2)\r\n",
      "Requirement already satisfied: setuptools in ./.venv/lib/python3.13/site-packages (from dash) (80.8.0)\r\n",
      "Requirement already satisfied: Jinja2>=3.1.2 in ./.venv/lib/python3.13/site-packages (from flask->jupyter_dash) (3.1.6)\r\n",
      "Requirement already satisfied: itsdangerous>=2.1.2 in ./.venv/lib/python3.13/site-packages (from flask->jupyter_dash) (2.2.0)\r\n",
      "Requirement already satisfied: click>=8.1.3 in ./.venv/lib/python3.13/site-packages (from flask->jupyter_dash) (8.2.0)\r\n",
      "Requirement already satisfied: blinker>=1.6.2 in ./.venv/lib/python3.13/site-packages (from flask->jupyter_dash) (1.9.0)\r\n",
      "Requirement already satisfied: MarkupSafe>=2.1.1 in ./.venv/lib/python3.13/site-packages (from Werkzeug<3.1->dash) (3.0.2)\r\n",
      "Requirement already satisfied: zipp>=3.20 in ./.venv/lib/python3.13/site-packages (from importlib-metadata->dash) (3.21.0)\r\n",
      "Requirement already satisfied: comm>=0.1.1 in ./.venv/lib/python3.13/site-packages (from ipykernel->jupyter_dash) (0.2.2)\r\n",
      "Requirement already satisfied: debugpy>=1.6.5 in ./.venv/lib/python3.13/site-packages (from ipykernel->jupyter_dash) (1.8.14)\r\n",
      "Requirement already satisfied: jupyter-client>=6.1.12 in ./.venv/lib/python3.13/site-packages (from ipykernel->jupyter_dash) (8.6.3)\r\n",
      "Requirement already satisfied: jupyter-core!=5.0.*,>=4.12 in ./.venv/lib/python3.13/site-packages (from ipykernel->jupyter_dash) (5.7.2)\r\n",
      "Requirement already satisfied: matplotlib-inline>=0.1 in ./.venv/lib/python3.13/site-packages (from ipykernel->jupyter_dash) (0.1.7)\r\n",
      "Requirement already satisfied: psutil in ./.venv/lib/python3.13/site-packages (from ipykernel->jupyter_dash) (7.0.0)\r\n",
      "Requirement already satisfied: pyzmq>=24 in ./.venv/lib/python3.13/site-packages (from ipykernel->jupyter_dash) (26.4.0)\r\n",
      "Requirement already satisfied: tornado>=6.1 in ./.venv/lib/python3.13/site-packages (from ipykernel->jupyter_dash) (6.5)\r\n",
      "Requirement already satisfied: traitlets>=5.4.0 in ./.venv/lib/python3.13/site-packages (from ipykernel->jupyter_dash) (5.14.3)\r\n",
      "Requirement already satisfied: decorator in ./.venv/lib/python3.13/site-packages (from ipython->jupyter_dash) (5.2.1)\r\n",
      "Requirement already satisfied: ipython-pygments-lexers in ./.venv/lib/python3.13/site-packages (from ipython->jupyter_dash) (1.1.1)\r\n",
      "Requirement already satisfied: jedi>=0.16 in ./.venv/lib/python3.13/site-packages (from ipython->jupyter_dash) (0.19.2)\r\n",
      "Requirement already satisfied: pexpect>4.3 in ./.venv/lib/python3.13/site-packages (from ipython->jupyter_dash) (4.9.0)\r\n",
      "Requirement already satisfied: prompt_toolkit<3.1.0,>=3.0.41 in ./.venv/lib/python3.13/site-packages (from ipython->jupyter_dash) (3.0.51)\r\n",
      "Requirement already satisfied: pygments>=2.4.0 in ./.venv/lib/python3.13/site-packages (from ipython->jupyter_dash) (2.19.1)\r\n",
      "Requirement already satisfied: stack_data in ./.venv/lib/python3.13/site-packages (from ipython->jupyter_dash) (0.6.3)\r\n",
      "Requirement already satisfied: charset-normalizer<4,>=2 in ./.venv/lib/python3.13/site-packages (from requests->jupyter_dash) (3.4.2)\r\n",
      "Requirement already satisfied: idna<4,>=2.5 in ./.venv/lib/python3.13/site-packages (from requests->jupyter_dash) (3.10)\r\n",
      "Requirement already satisfied: urllib3<3,>=1.21.1 in ./.venv/lib/python3.13/site-packages (from requests->jupyter_dash) (2.4.0)\r\n",
      "Requirement already satisfied: certifi>=2017.4.17 in ./.venv/lib/python3.13/site-packages (from requests->jupyter_dash) (2025.4.26)\r\n",
      "Requirement already satisfied: six>=1.7.0 in ./.venv/lib/python3.13/site-packages (from retrying->jupyter_dash) (1.17.0)\r\n",
      "Requirement already satisfied: parso<0.9.0,>=0.8.4 in ./.venv/lib/python3.13/site-packages (from jedi>=0.16->ipython->jupyter_dash) (0.8.4)\r\n",
      "Requirement already satisfied: python-dateutil>=2.8.2 in ./.venv/lib/python3.13/site-packages (from jupyter-client>=6.1.12->ipykernel->jupyter_dash) (2.9.0.post0)\r\n",
      "Requirement already satisfied: platformdirs>=2.5 in ./.venv/lib/python3.13/site-packages (from jupyter-core!=5.0.*,>=4.12->ipykernel->jupyter_dash) (4.3.8)\r\n",
      "Requirement already satisfied: ptyprocess>=0.5 in ./.venv/lib/python3.13/site-packages (from pexpect>4.3->ipython->jupyter_dash) (0.7.0)\r\n",
      "Requirement already satisfied: wcwidth in ./.venv/lib/python3.13/site-packages (from prompt_toolkit<3.1.0,>=3.0.41->ipython->jupyter_dash) (0.2.13)\r\n",
      "Requirement already satisfied: executing>=1.2.0 in ./.venv/lib/python3.13/site-packages (from stack_data->ipython->jupyter_dash) (2.2.0)\r\n",
      "Requirement already satisfied: asttokens>=2.1.0 in ./.venv/lib/python3.13/site-packages (from stack_data->ipython->jupyter_dash) (3.0.0)\r\n",
      "Requirement already satisfied: pure-eval in ./.venv/lib/python3.13/site-packages (from stack_data->ipython->jupyter_dash) (0.2.3)\r\n",
      "\r\n",
      "\u001B[1m[\u001B[0m\u001B[34;49mnotice\u001B[0m\u001B[1;39;49m]\u001B[0m\u001B[39;49m A new release of pip is available: \u001B[0m\u001B[31;49m25.0.1\u001B[0m\u001B[39;49m -> \u001B[0m\u001B[32;49m25.1.1\u001B[0m\r\n",
      "\u001B[1m[\u001B[0m\u001B[34;49mnotice\u001B[0m\u001B[1;39;49m]\u001B[0m\u001B[39;49m To update, run: \u001B[0m\u001B[32;49mpip install --upgrade pip\u001B[0m\r\n",
      "Проверка зависимостей\n",
      "DuckDB OK: 1.3.0\n",
      "Polars OK: 1.30.0\n",
      "Plotly OK: 6.1.2\n",
      "Jupiter_dash OK: 0.4.2\n"
     ]
    }
   ],
   "execution_count": 315
  },
  {
   "metadata": {
    "ExecuteTime": {
     "end_time": "2025-05-29T14:37:38.807636Z",
     "start_time": "2025-05-29T14:37:33.993761Z"
    }
   },
   "cell_type": "code",
   "source": [
    "import duckdb\n",
    "import polars as pl\n",
    "\n",
    "\n",
    "def read_parquet_with_duckdb(data_path: str, no_metro=False, no_overground=False):\n",
    "    where_clause = \"\"\n",
    "    if no_overground:\n",
    "        where_clause += \" WHERE TRANSPORT_TYPE_ID = 1 \"\n",
    "    if no_metro:\n",
    "        where_clause += \" WHERE TRANSPORT_TYPE_ID > 1 \"\n",
    "\n",
    "    query = f\"\"\"\n",
    "        SELECT *\n",
    "        FROM (\n",
    "            SELECT\n",
    "                TRAN_DATE,\n",
    "                DEVICE_NO,\n",
    "                TRANSPORT_TYPE_ID,\n",
    "                PLACE_ID,\n",
    "                BUS_RT_NO,\n",
    "                ROW_NUMBER() OVER () AS row_num\n",
    "            FROM '{data_path}'\n",
    "            {where_clause}\n",
    "        ) AS sub\n",
    "        WHERE row_num % 10 = 0\n",
    "    \"\"\"\n",
    "\n",
    "    result = duckdb.query(query).pl().with_columns(\n",
    "        pl.col(\"TRAN_DATE\").str.strptime(pl.Datetime, format=\"%Y-%m-%d %H:%M:%S%.f\")\n",
    "    ).with_columns([\n",
    "        pl.col(\"TRAN_DATE\").dt.date().alias(\"TRAN_ONLY_DATE\"),\n",
    "        pl.col(\"TRAN_DATE\").dt.time().alias(\"TRAN_ONLY_TIME\")\n",
    "    ]).with_columns(\n",
    "        pl.when(\n",
    "            (pl.col(\"TRANSPORT_TYPE_ID\") == 1) & (pl.col(\"BUS_RT_NO\").is_null())\n",
    "        )\n",
    "        .then(-239)\n",
    "        .otherwise(pl.col(\"BUS_RT_NO\"))\n",
    "        .alias(\"BUS_RT_NO\")).with_columns(\n",
    "        pl.col(\"TRAN_DATE\").dt.strftime(\"%A\").alias(\"DAY_NAME\")\n",
    "    )\n",
    "    return result\n",
    "\n",
    "\n",
    "big_data = read_parquet_with_duckdb(parquet_path)\n",
    "big_data.sample()"
   ],
   "id": "1c939828cf81a955",
   "outputs": [
    {
     "data": {
      "text/plain": [
       "shape: (1, 9)\n",
       "┌────────────┬───────────┬────────────┬──────────┬───┬──────────┬───────────┬───────────┬──────────┐\n",
       "│ TRAN_DATE  ┆ DEVICE_NO ┆ TRANSPORT_ ┆ PLACE_ID ┆ … ┆ row_num  ┆ TRAN_ONLY ┆ TRAN_ONLY ┆ DAY_NAME │\n",
       "│ ---        ┆ ---       ┆ TYPE_ID    ┆ ---      ┆   ┆ ---      ┆ _DATE     ┆ _TIME     ┆ ---      │\n",
       "│ datetime[μ ┆ i64       ┆ ---        ┆ i64      ┆   ┆ i64      ┆ ---       ┆ ---       ┆ str      │\n",
       "│ s]         ┆           ┆ i64        ┆          ┆   ┆          ┆ date      ┆ time      ┆          │\n",
       "╞════════════╪═══════════╪════════════╪══════════╪═══╪══════════╪═══════════╪═══════════╪══════════╡\n",
       "│ 2025-03-11 ┆ 9420      ┆ 2          ┆ 39696    ┆ … ┆ 19764890 ┆ 2025-03-1 ┆ 14:51:07  ┆ Tuesday  │\n",
       "│ 14:51:07   ┆           ┆            ┆          ┆   ┆          ┆ 1         ┆           ┆          │\n",
       "└────────────┴───────────┴────────────┴──────────┴───┴──────────┴───────────┴───────────┴──────────┘"
      ],
      "text/html": [
       "<div><style>\n",
       ".dataframe > thead > tr,\n",
       ".dataframe > tbody > tr {\n",
       "  text-align: right;\n",
       "  white-space: pre-wrap;\n",
       "}\n",
       "</style>\n",
       "<small>shape: (1, 9)</small><table border=\"1\" class=\"dataframe\"><thead><tr><th>TRAN_DATE</th><th>DEVICE_NO</th><th>TRANSPORT_TYPE_ID</th><th>PLACE_ID</th><th>BUS_RT_NO</th><th>row_num</th><th>TRAN_ONLY_DATE</th><th>TRAN_ONLY_TIME</th><th>DAY_NAME</th></tr><tr><td>datetime[μs]</td><td>i64</td><td>i64</td><td>i64</td><td>i64</td><td>i64</td><td>date</td><td>time</td><td>str</td></tr></thead><tbody><tr><td>2025-03-11 14:51:07</td><td>9420</td><td>2</td><td>39696</td><td>6132</td><td>19764890</td><td>2025-03-11</td><td>14:51:07</td><td>&quot;Tuesday&quot;</td></tr></tbody></table></div>"
      ]
     },
     "execution_count": 316,
     "metadata": {},
     "output_type": "execute_result"
    }
   ],
   "execution_count": 316
  },
  {
   "metadata": {
    "ExecuteTime": {
     "end_time": "2025-05-29T14:48:15.591758Z",
     "start_time": "2025-05-29T14:48:15.587160Z"
    }
   },
   "cell_type": "code",
   "source": [
    "def show(fig):\n",
    "    fig.update_layout(\n",
    "        coloraxis_showscale=False,\n",
    "        updatemenus=[{\n",
    "            \"type\": \"buttons\",\n",
    "            \"showactive\": False,\n",
    "            \"buttons\": [{\n",
    "                \"label\": \"Play\",\n",
    "                \"method\": \"animate\",\n",
    "                \"args\": [None, {\n",
    "                    \"frame\": {\"duration\": 2000, \"redraw\": True},  # 1000 мс = 1 секунда на кадр\n",
    "                    \"fromcurrent\": True,\n",
    "                    \"transition\": {\"duration\": 500, \"easing\": \"linear\"}  # плавность\n",
    "                }]\n",
    "            }, {\n",
    "                \"label\": \"Pause\",\n",
    "                \"method\": \"animate\",\n",
    "                \"args\": [[None], {\n",
    "                    \"frame\": {\"duration\": 0, \"redraw\": False},\n",
    "                    \"mode\": \"immediate\",\n",
    "                    \"transition\": {\"duration\": 0}\n",
    "                }]\n",
    "            }]\n",
    "        }],\n",
    "        sliders=[{\n",
    "            \"transition\": {\"duration\": 500},\n",
    "            \"currentvalue\": {\"pref\"\n",
    "                             \"ix\": \"День: \"},\n",
    "            \"pad\": {\"t\": 30},\n",
    "            \"len\": 0.9\n",
    "        }],\n",
    "        height=500,\n",
    "        width=1200,\n",
    "    )\n",
    "\n",
    "    fig.show()"
   ],
   "id": "17b1b3b2fcacbb22",
   "outputs": [],
   "execution_count": 353
  },
  {
   "metadata": {
    "ExecuteTime": {
     "end_time": "2025-05-29T14:48:15.745514Z",
     "start_time": "2025-05-29T14:48:15.741803Z"
    }
   },
   "cell_type": "code",
   "source": [
    "def filter_by_time(data, start_dt, end_dt, start_tm, end_tm, continuous):\n",
    "    if continuous:\n",
    "        filtered = data.filter(\n",
    "            (pl.col(\"TRAN_DATE\") >= datetime.strptime(start_dt + \" \" + start_tm, \"%Y-%m-%d %H:%M\")) &\n",
    "            (pl.col(\"TRAN_DATE\") <= datetime.strptime(end_dt + \" \" + end_tm, \"%Y-%m-%d %H:%M\"))\n",
    "        )\n",
    "    else:\n",
    "        filtered = data.filter(\n",
    "            (pl.col(\"TRAN_ONLY_DATE\") >= datetime.strptime(start_dt, \"%Y-%m-%d\").date()) &\n",
    "            (pl.col(\"TRAN_ONLY_DATE\") <= datetime.strptime(end_dt, \"%Y-%m-%d\").date()) &\n",
    "            (pl.col(\"TRAN_ONLY_TIME\") >= datetime.strptime(start_tm, \"%H:%M\").time()) &\n",
    "            (pl.col(\"TRAN_ONLY_TIME\") <= datetime.strptime(end_tm, \"%H:%M\").time())\n",
    "        )\n",
    "    return filtered"
   ],
   "id": "d8744a912c1de29e",
   "outputs": [],
   "execution_count": 354
  },
  {
   "metadata": {
    "ExecuteTime": {
     "end_time": "2025-05-29T14:48:23.667886Z",
     "start_time": "2025-05-29T14:48:15.889600Z"
    }
   },
   "cell_type": "code",
   "source": [
    "overground = read_parquet_with_duckdb(parquet_path, no_metro=True)\n",
    "underground = read_parquet_with_duckdb(parquet_path, no_overground=True)\n"
   ],
   "id": "972937a766fd9108",
   "outputs": [],
   "execution_count": 355
  },
  {
   "metadata": {
    "ExecuteTime": {
     "end_time": "2025-05-29T14:48:23.839681Z",
     "start_time": "2025-05-29T14:48:23.677592Z"
    }
   },
   "cell_type": "code",
   "source": [
    "from datetime import datetime\n",
    "\n",
    "\n",
    "def load_top_stops_overground(top=20, start_dt=\"2025-03-10\", end_dt=\"2025-03-16\", start_tm=\"00:00\",\n",
    "                              end_tm=\"23:59\", continuous=False):\n",
    "    place_lookup = pl.read_csv(\"data1/REF_PSG_PLACES_202503251822.csv\", separator=';')\n",
    "    # Фильтрация по времени\n",
    "    try:\n",
    "        filtered = filter_by_time(overground, start_dt, end_dt, start_tm, end_tm, continuous)\n",
    "    except:\n",
    "        return \"Wrong data format\"\n",
    "    # Топ остановок\n",
    "    top_stops = (\n",
    "        filtered.join(\n",
    "            place_lookup.select([\"PLACE_ID\", \"NAME\", \"LN_NAME_SHORT\"]),\n",
    "            left_on=\"PLACE_ID\",\n",
    "            right_on=\"PLACE_ID\",\n",
    "            how=\"left\"\n",
    "        )\n",
    "        .group_by(\"NAME\")\n",
    "        .agg(pl.len().alias(\"count\"))\n",
    "        .sort(\"count\", descending=[True])\n",
    "        .drop_nulls()\n",
    "        .with_columns(\n",
    "            pl.col(\"count\").rank(\"dense\", descending=True).alias(\"rank\")\n",
    "        )\n",
    "        .filter(pl.col(\"rank\") <= top))\n",
    "\n",
    "    return top_stops\n",
    "\n",
    "\n",
    "load_top_stops_overground()\n"
   ],
   "id": "dd227834ec767c1f",
   "outputs": [
    {
     "data": {
      "text/plain": [
       "shape: (20, 3)\n",
       "┌─────────────────────────────────┬────────┬──────┐\n",
       "│ NAME                            ┆ count  ┆ rank │\n",
       "│ ---                             ┆ ---    ┆ ---  │\n",
       "│ str                             ┆ u32    ┆ u32  │\n",
       "╞═════════════════════════════════╪════════╪══════╡\n",
       "│ Южный филиал (1 площадка-Домод… ┆ 437886 ┆ 1    │\n",
       "│ Юго-Западный филиал (1 площадк… ┆ 325174 ┆ 2    │\n",
       "│ Северо-западный филиал (1 площ… ┆ 315492 ┆ 3    │\n",
       "│ Центральный филиал (1 площадка… ┆ 169969 ┆ 4    │\n",
       "│ Северо-Восточный филиал (1 пло… ┆ 165215 ┆ 5    │\n",
       "│ …                               ┆ …      ┆ …    │\n",
       "│ Стартранс (Троицк) 6102         ┆ 62896  ┆ 16   │\n",
       "│ Центральный филиал (4 площадка… ┆ 61139  ┆ 17   │\n",
       "│ Трансавтолиз (Батюнинский)      ┆ 60729  ┆ 18   │\n",
       "│ Северо-Восточный филиал (4 пло… ┆ 59263  ┆ 19   │\n",
       "│ Стартранс Алтуфьевское ш (6101… ┆ 54983  ┆ 20   │\n",
       "└─────────────────────────────────┴────────┴──────┘"
      ],
      "text/html": [
       "<div><style>\n",
       ".dataframe > thead > tr,\n",
       ".dataframe > tbody > tr {\n",
       "  text-align: right;\n",
       "  white-space: pre-wrap;\n",
       "}\n",
       "</style>\n",
       "<small>shape: (20, 3)</small><table border=\"1\" class=\"dataframe\"><thead><tr><th>NAME</th><th>count</th><th>rank</th></tr><tr><td>str</td><td>u32</td><td>u32</td></tr></thead><tbody><tr><td>&quot;Южный филиал (1 площадка-Домод…</td><td>437886</td><td>1</td></tr><tr><td>&quot;Юго-Западный филиал (1 площадк…</td><td>325174</td><td>2</td></tr><tr><td>&quot;Северо-западный филиал (1 площ…</td><td>315492</td><td>3</td></tr><tr><td>&quot;Центральный филиал (1 площадка…</td><td>169969</td><td>4</td></tr><tr><td>&quot;Северо-Восточный филиал (1 пло…</td><td>165215</td><td>5</td></tr><tr><td>&hellip;</td><td>&hellip;</td><td>&hellip;</td></tr><tr><td>&quot;Стартранс (Троицк) 6102&quot;</td><td>62896</td><td>16</td></tr><tr><td>&quot;Центральный филиал (4 площадка…</td><td>61139</td><td>17</td></tr><tr><td>&quot;Трансавтолиз (Батюнинский)&quot;</td><td>60729</td><td>18</td></tr><tr><td>&quot;Северо-Восточный филиал (4 пло…</td><td>59263</td><td>19</td></tr><tr><td>&quot;Стартранс Алтуфьевское ш (6101…</td><td>54983</td><td>20</td></tr></tbody></table></div>"
      ]
     },
     "execution_count": 356,
     "metadata": {},
     "output_type": "execute_result"
    }
   ],
   "execution_count": 356
  },
  {
   "metadata": {
    "ExecuteTime": {
     "end_time": "2025-05-29T14:48:24.366785Z",
     "start_time": "2025-05-29T14:48:23.887190Z"
    }
   },
   "cell_type": "code",
   "source": [
    "def load_top_stops_underground(top=20, start_dt=\"2025-03-10\", end_dt=\"2025-03-16\", start_tm=\"00:00\",\n",
    "                               end_tm=\"23:59\", continuous=False):\n",
    "    try:\n",
    "        place_lookup = pl.read_csv(data_folder + \"REF_PSG_PLACES_202503251822.csv\", separator=';')\n",
    "    except FileNotFoundError:\n",
    "        return \"No file to look up places: REF_PSG_PLACES_202503251822.csv\"\n",
    "\n",
    "    try:\n",
    "        filtered = filter_by_time(underground, start_dt, end_dt, start_tm, end_tm, continuous)\n",
    "    except:\n",
    "        return \"Wrong data format\"\n",
    "    top_stops = (\n",
    "        filtered.join(\n",
    "            place_lookup.select([\"PLACE_ID\", \"NAME\", \"LN_NAME_SHORT\"]),\n",
    "            left_on=\"PLACE_ID\",\n",
    "            right_on=\"PLACE_ID\",\n",
    "            how=\"left\"\n",
    "        )\n",
    "        .group_by(\"PLACE_ID\", \"NAME\", \"LN_NAME_SHORT\")\n",
    "        .agg(pl.len().alias(\"count\"))\n",
    "        .sort(\"count\", descending=[True])\n",
    "        .drop_nulls()\n",
    "        .with_columns(\n",
    "            pl.col(\"count\").rank(\"dense\", descending=True).alias(\"rank\")\n",
    "        )\n",
    "        .filter(pl.col(\"rank\") <= top))\n",
    "\n",
    "    return top_stops\n",
    "\n",
    "\n",
    "load_top_stops_underground()"
   ],
   "id": "c7c4fea3fdcb41d4",
   "outputs": [
    {
     "data": {
      "text/plain": [
       "shape: (20, 5)\n",
       "┌──────────┬─────────────────────────────────┬────────────────────────────┬───────┬──────┐\n",
       "│ PLACE_ID ┆ NAME                            ┆ LN_NAME_SHORT              ┆ count ┆ rank │\n",
       "│ ---      ┆ ---                             ┆ ---                        ┆ ---   ┆ ---  │\n",
       "│ i64      ┆ str                             ┆ str                        ┆ u32   ┆ u32  │\n",
       "╞══════════╪═════════════════════════════════╪════════════════════════════╪═══════╪══════╡\n",
       "│ 1327     ┆ Щёлковская ( Северный )         ┆ Арбатско-Покровская        ┆ 39925 ┆ 1    │\n",
       "│ 1294     ┆ Бауманская                      ┆ Арбатско-Покровская        ┆ 39082 ┆ 2    │\n",
       "│ 1459     ┆ Павелецкая КЛ                   ┆ Кольцевая                  ┆ 37759 ┆ 3    │\n",
       "│ 1691     ┆ Текстильщики (Западный)         ┆ Таганско-Краснопресненская ┆ 36699 ┆ 4    │\n",
       "│ 1322     ┆ Славянский бульвар (Восток)     ┆ Арбатско-Покровская        ┆ 36539 ┆ 5    │\n",
       "│ …        ┆ …                               ┆ …                          ┆ …     ┆ …    │\n",
       "│ 1453     ┆ Комсомольская К (подземный зал… ┆ Кольцевая                  ┆ 25679 ┆ 16   │\n",
       "│ 1561     ┆ Бульвар Дмитрия Донского (Южны… ┆ Серпуховско-Тимирязевская  ┆ 25370 ┆ 17   │\n",
       "│ 1299     ┆ Киевская АПЛ                    ┆ Арбатско-Покровская        ┆ 24934 ┆ 18   │\n",
       "│ 38954    ┆ Некрасовка (Первый)             ┆ Некрасовская               ┆ 24920 ┆ 19   │\n",
       "│ 1694     ┆ Улица 1905 года (Первый)        ┆ Таганско-Краснопресненская ┆ 24873 ┆ 20   │\n",
       "└──────────┴─────────────────────────────────┴────────────────────────────┴───────┴──────┘"
      ],
      "text/html": [
       "<div><style>\n",
       ".dataframe > thead > tr,\n",
       ".dataframe > tbody > tr {\n",
       "  text-align: right;\n",
       "  white-space: pre-wrap;\n",
       "}\n",
       "</style>\n",
       "<small>shape: (20, 5)</small><table border=\"1\" class=\"dataframe\"><thead><tr><th>PLACE_ID</th><th>NAME</th><th>LN_NAME_SHORT</th><th>count</th><th>rank</th></tr><tr><td>i64</td><td>str</td><td>str</td><td>u32</td><td>u32</td></tr></thead><tbody><tr><td>1327</td><td>&quot;Щёлковская ( Северный )&quot;</td><td>&quot;Арбатско-Покровская&quot;</td><td>39925</td><td>1</td></tr><tr><td>1294</td><td>&quot;Бауманская&quot;</td><td>&quot;Арбатско-Покровская&quot;</td><td>39082</td><td>2</td></tr><tr><td>1459</td><td>&quot;Павелецкая КЛ&quot;</td><td>&quot;Кольцевая&quot;</td><td>37759</td><td>3</td></tr><tr><td>1691</td><td>&quot;Текстильщики (Западный)&quot;</td><td>&quot;Таганско-Краснопресненская&quot;</td><td>36699</td><td>4</td></tr><tr><td>1322</td><td>&quot;Славянский бульвар (Восток)&quot;</td><td>&quot;Арбатско-Покровская&quot;</td><td>36539</td><td>5</td></tr><tr><td>&hellip;</td><td>&hellip;</td><td>&hellip;</td><td>&hellip;</td><td>&hellip;</td></tr><tr><td>1453</td><td>&quot;Комсомольская К (подземный зал…</td><td>&quot;Кольцевая&quot;</td><td>25679</td><td>16</td></tr><tr><td>1561</td><td>&quot;Бульвар Дмитрия Донского (Южны…</td><td>&quot;Серпуховско-Тимирязевская&quot;</td><td>25370</td><td>17</td></tr><tr><td>1299</td><td>&quot;Киевская АПЛ&quot;</td><td>&quot;Арбатско-Покровская&quot;</td><td>24934</td><td>18</td></tr><tr><td>38954</td><td>&quot;Некрасовка (Первый)&quot;</td><td>&quot;Некрасовская&quot;</td><td>24920</td><td>19</td></tr><tr><td>1694</td><td>&quot;Улица 1905 года (Первый)&quot;</td><td>&quot;Таганско-Краснопресненская&quot;</td><td>24873</td><td>20</td></tr></tbody></table></div>"
      ]
     },
     "execution_count": 357,
     "metadata": {},
     "output_type": "execute_result"
    }
   ],
   "execution_count": 357
  },
  {
   "metadata": {
    "ExecuteTime": {
     "end_time": "2025-05-29T14:48:24.925094Z",
     "start_time": "2025-05-29T14:48:24.615388Z"
    }
   },
   "cell_type": "code",
   "source": [
    "def load_top_routes_overground(top=20, start_dt=\"2025-03-10\", end_dt=\"2025-03-16\", start_tm=\"00:00\",\n",
    "                               end_tm=\"23:59\", continuous=False, popularity=False):\n",
    "    route_lookup = pl.read_csv(data_folder + \"REF_TRANSPORT_WAY_202503251803.csv\", separator=';')\n",
    "    transport_type_lookup = pl.read_csv(data_folder + \"REF_TRANSPORT_TYPE_202503251727.csv\", separator=';')\n",
    "\n",
    "    filtered = filter_by_time(overground, start_dt, end_dt, start_tm, end_tm, continuous)\n",
    "    top_routes = (\n",
    "        filtered.join(\n",
    "            route_lookup.select([\"WAY_ID\", \"NAME\", \"TRANSPORT_ID\"]),\n",
    "            left_on=\"BUS_RT_NO\",\n",
    "            right_on=\"WAY_ID\",\n",
    "            how=\"left\").filter(pl.col(\"BUS_RT_NO\").is_not_null())\n",
    "        .group_by([\n",
    "            \"BUS_RT_NO\", \"NAME\", \"TRANSPORT_ID\",\n",
    "        ])\n",
    "        .agg([pl.len().alias(\"count\"),\n",
    "              pl.col(\"DEVICE_NO\").n_unique().alias(\"vehicle_count\")\n",
    "              ])\n",
    "        .drop_nulls()\n",
    "        .with_columns([\n",
    "            (pl.col(\"count\") / pl.col(\"vehicle_count\")).alias(\"rides_per_vehicle\")\n",
    "        ])\n",
    "        .with_columns([\n",
    "            pl.col(\"count\").rank(\"dense\", descending=True).alias(\"popularity\"),\n",
    "            pl.col(\"rides_per_vehicle\").rank(\"dense\", descending=True).alias(\"overload\")]\n",
    "        ).join(\n",
    "            transport_type_lookup, left_on=\"TRANSPORT_ID\", right_on=\"TRANSPORT_ID\", how=\"left\"\n",
    "        )\n",
    "    )\n",
    "    if popularity:\n",
    "        return top_routes.filter(pl.col(\"popularity\") <= top)\n",
    "    else:\n",
    "        return top_routes.filter(pl.col(\"overload\") <= top)\n",
    "\n",
    "\n",
    "load_top_routes_overground()\n",
    "\n"
   ],
   "id": "6a2179724fca4345",
   "outputs": [
    {
     "data": {
      "text/plain": [
       "shape: (20, 9)\n",
       "┌───────────┬────────────┬────────────┬───────┬───┬────────────┬────────────┬──────────┬───────────┐\n",
       "│ BUS_RT_NO ┆ NAME       ┆ TRANSPORT_ ┆ count ┆ … ┆ rides_per_ ┆ popularity ┆ overload ┆ NAME_righ │\n",
       "│ ---       ┆ ---        ┆ ID         ┆ ---   ┆   ┆ vehicle    ┆ ---        ┆ ---      ┆ t         │\n",
       "│ i64       ┆ str        ┆ ---        ┆ u32   ┆   ┆ ---        ┆ u32        ┆ u32      ┆ ---       │\n",
       "│           ┆            ┆ i64        ┆       ┆   ┆ f64        ┆            ┆          ┆ str       │\n",
       "╞═══════════╪════════════╪════════════╪═══════╪═══╪════════════╪════════════╪══════════╪═══════════╡\n",
       "│ 1334      ┆ с15 коммер ┆ 2          ┆ 9191  ┆ … ┆ 104.443182 ┆ 41         ┆ 4        ┆ Автобус   │\n",
       "│           ┆ ческий     ┆            ┆       ┆   ┆            ┆            ┆          ┆           │\n",
       "│           ┆ автобус    ┆            ┆       ┆   ┆            ┆            ┆          ┆           │\n",
       "│ 2083      ┆ ТыСбТ01    ┆ 2          ┆ 7991  ┆ … ┆ 88.788889  ┆ 57         ┆ 11       ┆ Автобус   │\n",
       "│           ┆ автобус    ┆            ┆       ┆   ┆            ┆            ┆          ┆           │\n",
       "│ 68        ┆ 68 автобус ┆ 2          ┆ 1662  ┆ … ┆ 110.8      ┆ 272        ┆ 1        ┆ Автобус   │\n",
       "│ 90        ┆ 92 автобус ┆ 2          ┆ 9992  ┆ … ┆ 82.578512  ┆ 33         ┆ 20       ┆ Автобус   │\n",
       "│ 628       ┆ 631        ┆ 2          ┆ 3543  ┆ … ┆ 84.357143  ┆ 147        ┆ 17       ┆ Автобус   │\n",
       "│           ┆ автобус    ┆            ┆       ┆   ┆            ┆            ┆          ┆           │\n",
       "│ …         ┆ …          ┆ …          ┆ …     ┆ … ┆ …          ┆ …          ┆ …        ┆ …         │\n",
       "│ 1261      ┆ 882Н       ┆ 2          ┆ 4923  ┆ … ┆ 86.368421  ┆ 110        ┆ 15       ┆ Автобус   │\n",
       "│           ┆ автобус    ┆            ┆       ┆   ┆            ┆            ┆          ┆           │\n",
       "│           ┆ пригород   ┆            ┆       ┆   ┆            ┆            ┆          ┆           │\n",
       "│           ┆ МО         ┆            ┆       ┆   ┆            ┆            ┆          ┆           │\n",
       "│ 1407      ┆ 320 коммер ┆ 2          ┆ 14658 ┆ … ┆ 85.719298  ┆ 17         ┆ 16       ┆ Автобус   │\n",
       "│           ┆ ческий     ┆            ┆       ┆   ┆            ┆            ┆          ┆           │\n",
       "│           ┆ автобус    ┆            ┆       ┆   ┆            ┆            ┆          ┆           │\n",
       "│ 197       ┆ 199        ┆ 2          ┆ 798   ┆ … ┆ 88.666667  ┆ 366        ┆ 12       ┆ Автобус   │\n",
       "│           ┆ автобус    ┆            ┆       ┆   ┆            ┆            ┆          ┆           │\n",
       "│ 1913      ┆ АЛМ01      ┆ 2          ┆ 10080 ┆ … ┆ 98.823529  ┆ 31         ┆ 7        ┆ Автобус   │\n",
       "│           ┆ автобус    ┆            ┆       ┆   ┆            ┆            ┆          ┆           │\n",
       "│ 223       ┆ 225        ┆ 2          ┆ 8749  ┆ … ┆ 86.623762  ┆ 45         ┆ 14       ┆ Автобус   │\n",
       "│           ┆ автобус    ┆            ┆       ┆   ┆            ┆            ┆          ┆           │\n",
       "└───────────┴────────────┴────────────┴───────┴───┴────────────┴────────────┴──────────┴───────────┘"
      ],
      "text/html": [
       "<div><style>\n",
       ".dataframe > thead > tr,\n",
       ".dataframe > tbody > tr {\n",
       "  text-align: right;\n",
       "  white-space: pre-wrap;\n",
       "}\n",
       "</style>\n",
       "<small>shape: (20, 9)</small><table border=\"1\" class=\"dataframe\"><thead><tr><th>BUS_RT_NO</th><th>NAME</th><th>TRANSPORT_ID</th><th>count</th><th>vehicle_count</th><th>rides_per_vehicle</th><th>popularity</th><th>overload</th><th>NAME_right</th></tr><tr><td>i64</td><td>str</td><td>i64</td><td>u32</td><td>u32</td><td>f64</td><td>u32</td><td>u32</td><td>str</td></tr></thead><tbody><tr><td>1334</td><td>&quot;с15 коммерческий автобус&quot;</td><td>2</td><td>9191</td><td>88</td><td>104.443182</td><td>41</td><td>4</td><td>&quot;Автобус&quot;</td></tr><tr><td>2083</td><td>&quot;ТыСбТ01 автобус&quot;</td><td>2</td><td>7991</td><td>90</td><td>88.788889</td><td>57</td><td>11</td><td>&quot;Автобус&quot;</td></tr><tr><td>68</td><td>&quot;68 автобус&quot;</td><td>2</td><td>1662</td><td>15</td><td>110.8</td><td>272</td><td>1</td><td>&quot;Автобус&quot;</td></tr><tr><td>90</td><td>&quot;92 автобус&quot;</td><td>2</td><td>9992</td><td>121</td><td>82.578512</td><td>33</td><td>20</td><td>&quot;Автобус&quot;</td></tr><tr><td>628</td><td>&quot;631 автобус&quot;</td><td>2</td><td>3543</td><td>42</td><td>84.357143</td><td>147</td><td>17</td><td>&quot;Автобус&quot;</td></tr><tr><td>&hellip;</td><td>&hellip;</td><td>&hellip;</td><td>&hellip;</td><td>&hellip;</td><td>&hellip;</td><td>&hellip;</td><td>&hellip;</td><td>&hellip;</td></tr><tr><td>1261</td><td>&quot;882Н автобус пригород МО&quot;</td><td>2</td><td>4923</td><td>57</td><td>86.368421</td><td>110</td><td>15</td><td>&quot;Автобус&quot;</td></tr><tr><td>1407</td><td>&quot;320 коммерческий автобус&quot;</td><td>2</td><td>14658</td><td>171</td><td>85.719298</td><td>17</td><td>16</td><td>&quot;Автобус&quot;</td></tr><tr><td>197</td><td>&quot;199 автобус&quot;</td><td>2</td><td>798</td><td>9</td><td>88.666667</td><td>366</td><td>12</td><td>&quot;Автобус&quot;</td></tr><tr><td>1913</td><td>&quot;АЛМ01 автобус&quot;</td><td>2</td><td>10080</td><td>102</td><td>98.823529</td><td>31</td><td>7</td><td>&quot;Автобус&quot;</td></tr><tr><td>223</td><td>&quot;225 автобус&quot;</td><td>2</td><td>8749</td><td>101</td><td>86.623762</td><td>45</td><td>14</td><td>&quot;Автобус&quot;</td></tr></tbody></table></div>"
      ]
     },
     "execution_count": 358,
     "metadata": {},
     "output_type": "execute_result"
    }
   ],
   "execution_count": 358
  },
  {
   "metadata": {
    "ExecuteTime": {
     "end_time": "2025-05-29T18:38:39.422281Z",
     "start_time": "2025-05-29T18:38:39.416362Z"
    }
   },
   "cell_type": "code",
   "source": [
    "def plot(data: pl.DataFrame, x: str, y: str, title=\"\", color=None, do_show=False):\n",
    "    df_pandas = data.to_pandas()\n",
    "    if color == None:\n",
    "        fig = px.bar(\n",
    "            df_pandas,\n",
    "            x=x,\n",
    "            y=y,\n",
    "            title=title,\n",
    "        )\n",
    "    else:\n",
    "        fig = px.bar(\n",
    "            df_pandas,\n",
    "            x=x,\n",
    "            y=y,\n",
    "            title=title,\n",
    "            color=color,\n",
    "        )\n",
    "\n",
    "    fig.update_layout(\n",
    "        xaxis_title=\"Остановка\",\n",
    "        yaxis_title=\"Количество поездок\",\n",
    "        xaxis_categoryorder=\"total descending\",\n",
    "        xaxis_tickangle=-45,\n",
    "        margin=dict(t=50, b=100),\n",
    "        coloraxis_showscale=False\n",
    "    )\n",
    "    if do_show:\n",
    "        show(fig)\n",
    "\n",
    "    return fig"
   ],
   "id": "86f13375e3d76bf9",
   "outputs": [],
   "execution_count": 387
  },
  {
   "metadata": {
    "ExecuteTime": {
     "end_time": "2025-05-29T18:38:39.543205Z",
     "start_time": "2025-05-29T18:38:39.537296Z"
    }
   },
   "cell_type": "code",
   "source": [
    "def output_size():\n",
    "    return html.Div([\n",
    "        dcc.Input(id='top-number', type='text', value='20'),\n",
    "        html.Span(\"Размер вывода\", className=\"\"),\n",
    "    ], className=\"field border max\", style={'padding': 10})\n",
    "\n"
   ],
   "id": "9fa31c489d7280c9",
   "outputs": [],
   "execution_count": 388
  },
  {
   "metadata": {
    "ExecuteTime": {
     "end_time": "2025-05-29T18:52:20.698654Z",
     "start_time": "2025-05-29T18:52:20.693984Z"
    }
   },
   "cell_type": "code",
   "source": [
    "\n",
    "def date_picker(min_date, max_date):\n",
    "    return html.Div([\n",
    "        html.Div([\n",
    "            dcc.DatePickerRange(\n",
    "                id='date-picker',\n",
    "                min_date_allowed=min_date,\n",
    "                max_date_allowed=max_date,\n",
    "                start_date=min_date,\n",
    "                end_date=max_date,\n",
    "                className=\"center transparent-datepicker\",\n",
    "                style={'background-color': 'transparent'},\n",
    "            ), ]),\n",
    "        html.Span(\n",
    "            \"Дата от/до\",\n",
    "            className=\"\",\n",
    "            style={\n",
    "                'display': 'block',\n",
    "                'textAlign': 'center',\n",
    "                'margin': '0 auto'\n",
    "            }),\n",
    "    ], className=\"column\", style={'padding': 10})\n"
   ],
   "id": "a90d937ae4605a9c",
   "outputs": [],
   "execution_count": 428
  },
  {
   "metadata": {
    "ExecuteTime": {
     "end_time": "2025-05-29T18:52:20.893642Z",
     "start_time": "2025-05-29T18:52:20.885236Z"
    }
   },
   "cell_type": "code",
   "source": [
    "\n",
    "def time_picker():\n",
    "    return html.Div([\n",
    "        html.Div([\n",
    "            html.Div([\n",
    "                html.Div([\n",
    "                    dcc.Input(id='start-time', type='text', value='00:00', className=\"\"),\n",
    "                    html.Span(\"Начало\", className=\"\"),\n",
    "                ], className=\"field border max\")\n",
    "            ], className=\"max\"),\n",
    "            html.Div([\n",
    "                html.Div([\n",
    "                    dcc.Input(id='end-time', type='text', value='23:59', className=\"\"),\n",
    "                    html.Span(\"Конец\", className=\"\"),\n",
    "                ], className=\"field border max\")\n",
    "            ], className=\"max\"),\n",
    "        ], className=\"row\")\n",
    "    ], style={'padding': 10})"
   ],
   "id": "65d3b49236b9ff63",
   "outputs": [],
   "execution_count": 429
  },
  {
   "metadata": {
    "ExecuteTime": {
     "end_time": "2025-05-29T18:52:21.090604Z",
     "start_time": "2025-05-29T18:52:21.086279Z"
    }
   },
   "cell_type": "code",
   "source": [
    "def time_segment_type():\n",
    "    html.Div([\n",
    "        html.Label(\"Тип временного отрезка\"),\n",
    "        dcc.RadioItems(\n",
    "\n",
    "            labelStyle={'display': 'inline-block', 'marginLeft': '15px'},\n",
    "            className='horizontal',\n",
    "        ),\n",
    "    ], style={'marginBottom': 10})\n",
    "\n",
    "    return html.Div([\n",
    "        html.Div([\n",
    "            dcc.Dropdown(\n",
    "                id='time-type',\n",
    "                options=[\n",
    "                    {'label': 'Непрерывно', 'value': 'h0'},\n",
    "                    {'label': 'Кусочно', 'value': 'h1'},\n",
    "                ],\n",
    "                value='h0',\n",
    "                className=\"beer\",\n",
    "                style={'backgroundColor': 'transparent'},\n",
    "            ),\n",
    "            html.Span(\"Выбор отсчёта времени\", className=\"\",\n",
    "                      style={'display': 'inline-block', 'marginTop': '-15px'}),\n",
    "        ], className=\"field border\")\n",
    "    ], className=\"max\", style={'padding-right': 10})"
   ],
   "id": "c85f1ca8ccc0c674",
   "outputs": [],
   "execution_count": 430
  },
  {
   "metadata": {
    "ExecuteTime": {
     "end_time": "2025-05-29T18:52:21.265663Z",
     "start_time": "2025-05-29T18:52:21.260717Z"
    }
   },
   "cell_type": "code",
   "source": [
    "def graph_type():\n",
    "    return html.Div([\n",
    "        html.Div([\n",
    "            dcc.Dropdown(\n",
    "                id='data-source',\n",
    "                options=[\n",
    "                    {'label': 'Маршруты популярность', 'value': 't0'},\n",
    "                    {'label': 'Маршруты перегруженность', 'value': 't1'},\n",
    "                    {'label': 'Остановки', 'value': 't2'},\n",
    "                    {'label': 'Метро популярность', 'value': 't3'},\n",
    "                ],\n",
    "                value='t0',  # Начальное значение\n",
    "                className=\"beer\",\n",
    "                style={'backgroundColor': 'transparent'},\n",
    "\n",
    "            ),\n",
    "            html.Span(\"Выбор графика\", className=\"\", style={'display': 'inline-block', 'marginTop': '-15px'}),\n",
    "        ], className=\"field border\")\n",
    "    ], className=\"max\", style={'padding-left': 10})"
   ],
   "id": "56f77359bbeab38e",
   "outputs": [],
   "execution_count": 431
  },
  {
   "metadata": {
    "ExecuteTime": {
     "end_time": "2025-05-29T18:52:21.452501Z",
     "start_time": "2025-05-29T18:52:21.446820Z"
    }
   },
   "cell_type": "code",
   "source": [
    "def submit_button():\n",
    "    return html.Div([html.Button(\"Построить график\", id='submit-button', n_clicks=0),\n",
    "                     ], className=\"\")"
   ],
   "id": "805bdea1501ee1db",
   "outputs": [],
   "execution_count": 432
  },
  {
   "metadata": {
    "ExecuteTime": {
     "end_time": "2025-05-29T18:52:21.632739Z",
     "start_time": "2025-05-29T18:52:21.624154Z"
    }
   },
   "cell_type": "code",
   "source": [
    "def layout(df):\n",
    "    return html.Div([\n",
    "        html.Div(className=\"l2\"),\n",
    "        html.Div([\n",
    "            html.Br(),\n",
    "            html.H3(\n",
    "                \"Инфографика транспорта Москвы\",\n",
    "                className=\"center\",\n",
    "                style={\"color\": \"orange\", \"textAlign\": \"center\"},\n",
    "            ),\n",
    "\n",
    "            html.Fieldset([\n",
    "                date_picker(df[\"TRAN_ONLY_DATE\"].min(), df[\"TRAN_ONLY_DATE\"].max()),\n",
    "                time_picker(),\n",
    "                html.Br(),\n",
    "\n",
    "                html.Div([\n",
    "                    graph_type(),\n",
    "                    time_segment_type(), ], className=\"row\"),\n",
    "                html.Br(),\n",
    "                html.Div([\n",
    "                    output_size(),\n",
    "                    submit_button(), ], className=\"row\"),\n",
    "                html.Br(),\n",
    "\n",
    "            ]),\n",
    "            dcc.Graph(id='graph', style={'width': '100%'}), ]\n",
    "            , className=\"l8\"),\n",
    "        html.Div(className=\"l2\"),\n",
    "\n",
    "    ], className=\"grid\")"
   ],
   "id": "4bb7cd1a51e99cee",
   "outputs": [],
   "execution_count": 433
  },
  {
   "metadata": {
    "ExecuteTime": {
     "end_time": "2025-05-29T18:58:00.864325Z",
     "start_time": "2025-05-29T18:58:00.821415Z"
    }
   },
   "cell_type": "code",
   "source": [
    "from dash import Dash, dcc, html, Input, Output, State\n",
    "import plotly.express as px\n",
    "import pandas as pd\n",
    "\n",
    "\n",
    "def application(df):\n",
    "    app = Dash(__name__)\n",
    "    app.layout = layout(df)\n",
    "\n",
    "    @app.callback(\n",
    "        Output('graph', 'figure'),\n",
    "        Input('submit-button', 'n_clicks'),\n",
    "        State('date-picker', 'start_date'),\n",
    "        State('date-picker', 'end_date'),\n",
    "        State('start-time', 'value'),\n",
    "        State('end-time', 'value'),\n",
    "        State(\"data-source\", \"value\"),\n",
    "        State('top-number', 'value'),\n",
    "        State('time-type', 'value'),\n",
    "    )\n",
    "    def update_graph(n_clicks, start_date, end_date, start_time_str, end_time_str, data_source, top_number, time_type):\n",
    "        if not n_clicks or data_source == 't-1':\n",
    "            return px.scatter(title=\"Выберите параметры и нажмите кнопку\")\n",
    "\n",
    "        print(start_date, end_date, start_time_str, end_time_str, data_source, top_number, time_type)\n",
    "\n",
    "        print(f\"n_clicks: {n_clicks}, start_date: {start_date}, end_date: {end_date}, top_number: {top_number}\")\n",
    "        continuous = True\n",
    "        if time_type == 'h1':\n",
    "            continuous = False\n",
    "\n",
    "        try:\n",
    "            top_number = int(top_number)\n",
    "            start_dt = pd.to_datetime(f\"{start_date} {start_time_str}\")\n",
    "            end_dt = pd.to_datetime(f\"{end_date} {end_time_str}\")\n",
    "        except Exception as e:\n",
    "            return px.scatter(title=f\"Ошибка в формате даты/времени: {e}\")\n",
    "\n",
    "        if data_source == 't0':\n",
    "            data = load_top_routes_overground(top_number, start_date, end_date, start_time_str, end_time_str,\n",
    "                                              continuous,\n",
    "                                              True)\n",
    "            fig = plot(data, \"NAME\", \"count\", color=\"NAME_right\")\n",
    "        elif data_source == 't1':\n",
    "            data = load_top_routes_overground(top_number, start_date, end_date, start_time_str, end_time_str,\n",
    "                                              continuous,\n",
    "                                              False)\n",
    "            fig = plot(data, \"NAME\", \"rides_per_vehicle\", color=\"NAME_right\")\n",
    "        elif data_source == 't2':\n",
    "            data = load_top_stops_overground(top_number, start_date, end_date, start_time_str, end_time_str, continuous)\n",
    "            print(\"dadddddddddd\")\n",
    "            fig = plot(data, \"NAME\", \"count\", )\n",
    "        elif data_source == 't3':\n",
    "            data = load_top_stops_underground(top_number, start_date, end_date, start_time_str, end_time_str,\n",
    "                                              continuous)\n",
    "            fig = plot(data, \"NAME\", \"count\", color=\"LN_NAME_SHORT\")\n",
    "\n",
    "        return fig\n",
    "\n",
    "    app.run(mode='external', port=8239)\n",
    "\n",
    "\n",
    "application(big_data.sample(10))"
   ],
   "id": "c8efd58a6fe7cd87",
   "outputs": [
    {
     "data": {
      "text/plain": [
       "<IPython.lib.display.IFrame at 0x79d66f764c90>"
      ],
      "text/html": [
       "\n",
       "        <iframe\n",
       "            width=\"100%\"\n",
       "            height=\"650\"\n",
       "            src=\"http://127.0.0.1:8239/\"\n",
       "            frameborder=\"0\"\n",
       "            allowfullscreen\n",
       "            \n",
       "        ></iframe>\n",
       "        "
      ]
     },
     "metadata": {},
     "output_type": "display_data"
    }
   ],
   "execution_count": 442
  },
  {
   "metadata": {
    "ExecuteTime": {
     "end_time": "2025-05-29T18:52:22.018028Z",
     "start_time": "2025-05-29T18:52:22.014716Z"
    }
   },
   "cell_type": "code",
   "source": "\n",
   "id": "f63765ed8734739",
   "outputs": [],
   "execution_count": 434
  },
  {
   "metadata": {
    "ExecuteTime": {
     "end_time": "2025-05-29T18:48:20.309857Z",
     "start_time": "2025-05-29T18:48:20.307801Z"
    }
   },
   "cell_type": "code",
   "source": "",
   "id": "5b689d0b550b9e4e",
   "outputs": [],
   "execution_count": null
  },
  {
   "metadata": {
    "ExecuteTime": {
     "end_time": "2025-05-29T18:48:20.417185Z",
     "start_time": "2025-05-29T18:48:20.414096Z"
    }
   },
   "cell_type": "code",
   "source": "",
   "id": "c559660bda495a7f",
   "outputs": [],
   "execution_count": null
  },
  {
   "metadata": {},
   "cell_type": "code",
   "outputs": [],
   "execution_count": null,
   "source": "",
   "id": "a7fbf9304f7761eb"
  }
 ],
 "metadata": {
  "kernelspec": {
   "display_name": "Python 3",
   "language": "python",
   "name": "python3"
  },
  "language_info": {
   "codemirror_mode": {
    "name": "ipython",
    "version": 2
   },
   "file_extension": ".py",
   "mimetype": "text/x-python",
   "name": "python",
   "nbconvert_exporter": "python",
   "pygments_lexer": "ipython2",
   "version": "2.7.6"
  }
 },
 "nbformat": 4,
 "nbformat_minor": 5
}
