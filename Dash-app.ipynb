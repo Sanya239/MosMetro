{
 "cells": [
  {
   "cell_type": "code",
   "id": "initial_id",
   "metadata": {
    "collapsed": true,
    "ExecuteTime": {
     "end_time": "2025-05-29T21:36:22.373647Z",
     "start_time": "2025-05-29T21:36:22.367297Z"
    }
   },
   "source": [
    "import time\n",
    "\n",
    "data_folder = 'app/data1/'\n",
    "csv_path = data_folder + \"big_data.csv\"  # путь к жирному файлу\n",
    "\n",
    "parquet_path = csv_path.replace('.csv', '.parquet')\n",
    "print(f\"Последний запуск {time.ctime()}\")\n"
   ],
   "outputs": [
    {
     "name": "stdout",
     "output_type": "stream",
     "text": [
      "Последний запуск Fri May 30 00:36:22 2025\n"
     ]
    }
   ],
   "execution_count": 529
  },
  {
   "metadata": {
    "ExecuteTime": {
     "end_time": "2025-05-29T21:36:24.659293Z",
     "start_time": "2025-05-29T21:36:22.443917Z"
    }
   },
   "cell_type": "code",
   "source": [
    "import sys\n",
    "!{sys.executable} -m pip install pyarrow duckdb polars plotly jupyter_dash dash --upgrade\n",
    "# зависимости\n",
    "print(\"Проверка зависимостей\")\n",
    "\n",
    "import duckdb\n",
    "import polars as pl\n",
    "import plotly\n",
    "import jupyter_dash\n",
    "\n",
    "print(\"DuckDB OK:\", duckdb.__version__)\n",
    "print(\"Polars OK:\", pl.__version__)\n",
    "print(\"Plotly OK:\", plotly.__version__)\n",
    "print(\"Jupiter_dash OK:\", jupyter_dash.__version__)\n"
   ],
   "id": "e70f9e60b40a2a24",
   "outputs": [
    {
     "name": "stdout",
     "output_type": "stream",
     "text": [
      "Requirement already satisfied: pyarrow in ./.venv/lib/python3.13/site-packages (20.0.0)\r\n",
      "Requirement already satisfied: duckdb in ./.venv/lib/python3.13/site-packages (1.3.0)\r\n",
      "Requirement already satisfied: polars in ./.venv/lib/python3.13/site-packages (1.30.0)\r\n",
      "Requirement already satisfied: plotly in ./.venv/lib/python3.13/site-packages (6.1.2)\r\n",
      "Requirement already satisfied: jupyter_dash in ./.venv/lib/python3.13/site-packages (0.4.2)\r\n",
      "Requirement already satisfied: dash in ./.venv/lib/python3.13/site-packages (3.0.4)\r\n",
      "Requirement already satisfied: narwhals>=1.15.1 in ./.venv/lib/python3.13/site-packages (from plotly) (1.40.0)\r\n",
      "Requirement already satisfied: packaging in ./.venv/lib/python3.13/site-packages (from plotly) (25.0)\r\n",
      "Requirement already satisfied: requests in ./.venv/lib/python3.13/site-packages (from jupyter_dash) (2.32.3)\r\n",
      "Requirement already satisfied: flask in ./.venv/lib/python3.13/site-packages (from jupyter_dash) (3.0.3)\r\n",
      "Requirement already satisfied: retrying in ./.venv/lib/python3.13/site-packages (from jupyter_dash) (1.3.4)\r\n",
      "Requirement already satisfied: ipython in ./.venv/lib/python3.13/site-packages (from jupyter_dash) (9.2.0)\r\n",
      "Requirement already satisfied: ipykernel in ./.venv/lib/python3.13/site-packages (from jupyter_dash) (6.29.5)\r\n",
      "Requirement already satisfied: ansi2html in ./.venv/lib/python3.13/site-packages (from jupyter_dash) (1.9.2)\r\n",
      "Requirement already satisfied: nest-asyncio in ./.venv/lib/python3.13/site-packages (from jupyter_dash) (1.6.0)\r\n",
      "Requirement already satisfied: Werkzeug<3.1 in ./.venv/lib/python3.13/site-packages (from dash) (3.0.6)\r\n",
      "Requirement already satisfied: importlib-metadata in ./.venv/lib/python3.13/site-packages (from dash) (8.7.0)\r\n",
      "Requirement already satisfied: typing-extensions>=4.1.1 in ./.venv/lib/python3.13/site-packages (from dash) (4.13.2)\r\n",
      "Requirement already satisfied: setuptools in ./.venv/lib/python3.13/site-packages (from dash) (80.8.0)\r\n",
      "Requirement already satisfied: Jinja2>=3.1.2 in ./.venv/lib/python3.13/site-packages (from flask->jupyter_dash) (3.1.6)\r\n",
      "Requirement already satisfied: itsdangerous>=2.1.2 in ./.venv/lib/python3.13/site-packages (from flask->jupyter_dash) (2.2.0)\r\n",
      "Requirement already satisfied: click>=8.1.3 in ./.venv/lib/python3.13/site-packages (from flask->jupyter_dash) (8.2.0)\r\n",
      "Requirement already satisfied: blinker>=1.6.2 in ./.venv/lib/python3.13/site-packages (from flask->jupyter_dash) (1.9.0)\r\n",
      "Requirement already satisfied: MarkupSafe>=2.1.1 in ./.venv/lib/python3.13/site-packages (from Werkzeug<3.1->dash) (3.0.2)\r\n",
      "Requirement already satisfied: zipp>=3.20 in ./.venv/lib/python3.13/site-packages (from importlib-metadata->dash) (3.21.0)\r\n",
      "Requirement already satisfied: comm>=0.1.1 in ./.venv/lib/python3.13/site-packages (from ipykernel->jupyter_dash) (0.2.2)\r\n",
      "Requirement already satisfied: debugpy>=1.6.5 in ./.venv/lib/python3.13/site-packages (from ipykernel->jupyter_dash) (1.8.14)\r\n",
      "Requirement already satisfied: jupyter-client>=6.1.12 in ./.venv/lib/python3.13/site-packages (from ipykernel->jupyter_dash) (8.6.3)\r\n",
      "Requirement already satisfied: jupyter-core!=5.0.*,>=4.12 in ./.venv/lib/python3.13/site-packages (from ipykernel->jupyter_dash) (5.7.2)\r\n",
      "Requirement already satisfied: matplotlib-inline>=0.1 in ./.venv/lib/python3.13/site-packages (from ipykernel->jupyter_dash) (0.1.7)\r\n",
      "Requirement already satisfied: psutil in ./.venv/lib/python3.13/site-packages (from ipykernel->jupyter_dash) (7.0.0)\r\n",
      "Requirement already satisfied: pyzmq>=24 in ./.venv/lib/python3.13/site-packages (from ipykernel->jupyter_dash) (26.4.0)\r\n",
      "Requirement already satisfied: tornado>=6.1 in ./.venv/lib/python3.13/site-packages (from ipykernel->jupyter_dash) (6.5)\r\n",
      "Requirement already satisfied: traitlets>=5.4.0 in ./.venv/lib/python3.13/site-packages (from ipykernel->jupyter_dash) (5.14.3)\r\n",
      "Requirement already satisfied: decorator in ./.venv/lib/python3.13/site-packages (from ipython->jupyter_dash) (5.2.1)\r\n",
      "Requirement already satisfied: ipython-pygments-lexers in ./.venv/lib/python3.13/site-packages (from ipython->jupyter_dash) (1.1.1)\r\n",
      "Requirement already satisfied: jedi>=0.16 in ./.venv/lib/python3.13/site-packages (from ipython->jupyter_dash) (0.19.2)\r\n",
      "Requirement already satisfied: pexpect>4.3 in ./.venv/lib/python3.13/site-packages (from ipython->jupyter_dash) (4.9.0)\r\n",
      "Requirement already satisfied: prompt_toolkit<3.1.0,>=3.0.41 in ./.venv/lib/python3.13/site-packages (from ipython->jupyter_dash) (3.0.51)\r\n",
      "Requirement already satisfied: pygments>=2.4.0 in ./.venv/lib/python3.13/site-packages (from ipython->jupyter_dash) (2.19.1)\r\n",
      "Requirement already satisfied: stack_data in ./.venv/lib/python3.13/site-packages (from ipython->jupyter_dash) (0.6.3)\r\n",
      "Requirement already satisfied: wcwidth in ./.venv/lib/python3.13/site-packages (from prompt_toolkit<3.1.0,>=3.0.41->ipython->jupyter_dash) (0.2.13)\r\n",
      "Requirement already satisfied: parso<0.9.0,>=0.8.4 in ./.venv/lib/python3.13/site-packages (from jedi>=0.16->ipython->jupyter_dash) (0.8.4)\r\n",
      "Requirement already satisfied: python-dateutil>=2.8.2 in ./.venv/lib/python3.13/site-packages (from jupyter-client>=6.1.12->ipykernel->jupyter_dash) (2.9.0.post0)\r\n",
      "Requirement already satisfied: platformdirs>=2.5 in ./.venv/lib/python3.13/site-packages (from jupyter-core!=5.0.*,>=4.12->ipykernel->jupyter_dash) (4.3.8)\r\n",
      "Requirement already satisfied: ptyprocess>=0.5 in ./.venv/lib/python3.13/site-packages (from pexpect>4.3->ipython->jupyter_dash) (0.7.0)\r\n",
      "Requirement already satisfied: six>=1.5 in ./.venv/lib/python3.13/site-packages (from python-dateutil>=2.8.2->jupyter-client>=6.1.12->ipykernel->jupyter_dash) (1.17.0)\r\n",
      "Requirement already satisfied: charset-normalizer<4,>=2 in ./.venv/lib/python3.13/site-packages (from requests->jupyter_dash) (3.4.2)\r\n",
      "Requirement already satisfied: idna<4,>=2.5 in ./.venv/lib/python3.13/site-packages (from requests->jupyter_dash) (3.10)\r\n",
      "Requirement already satisfied: urllib3<3,>=1.21.1 in ./.venv/lib/python3.13/site-packages (from requests->jupyter_dash) (2.4.0)\r\n",
      "Requirement already satisfied: certifi>=2017.4.17 in ./.venv/lib/python3.13/site-packages (from requests->jupyter_dash) (2025.4.26)\r\n",
      "Requirement already satisfied: executing>=1.2.0 in ./.venv/lib/python3.13/site-packages (from stack_data->ipython->jupyter_dash) (2.2.0)\r\n",
      "Requirement already satisfied: asttokens>=2.1.0 in ./.venv/lib/python3.13/site-packages (from stack_data->ipython->jupyter_dash) (3.0.0)\r\n",
      "Requirement already satisfied: pure-eval in ./.venv/lib/python3.13/site-packages (from stack_data->ipython->jupyter_dash) (0.2.3)\r\n",
      "Проверка зависимостей\n",
      "DuckDB OK: 1.3.0\n",
      "Polars OK: 1.30.0\n",
      "Plotly OK: 6.1.2\n",
      "Jupiter_dash OK: 0.4.2\n"
     ]
    }
   ],
   "execution_count": 530
  },
  {
   "metadata": {
    "ExecuteTime": {
     "end_time": "2025-05-29T21:36:25.295942Z",
     "start_time": "2025-05-29T21:36:24.705012Z"
    }
   },
   "cell_type": "code",
   "source": [
    "import duckdb\n",
    "import polars as pl\n",
    "\n",
    "\n",
    "def read_parquet_with_duckdb(data_path: str, no_metro=False, no_overground=False):\n",
    "    where_clause = \"\"\n",
    "    if no_overground:\n",
    "        where_clause += \" WHERE TRANSPORT_TYPE_ID = 1 \"\n",
    "    if no_metro:\n",
    "        where_clause += \" WHERE TRANSPORT_TYPE_ID > 1 \"\n",
    "\n",
    "    query = f\"\"\"\n",
    "        SELECT *\n",
    "        FROM (\n",
    "            SELECT\n",
    "                TRAN_DATE,\n",
    "                DEVICE_NO,\n",
    "                TRANSPORT_TYPE_ID,\n",
    "                PLACE_ID,\n",
    "                BUS_RT_NO,\n",
    "                ROW_NUMBER() OVER () AS row_num\n",
    "            FROM '{data_path}'\n",
    "            {where_clause}\n",
    "        ) AS sub\n",
    "        WHERE row_num % 10 = 0\n",
    "    \"\"\"\n",
    "\n",
    "    result = duckdb.query(query).pl().with_columns([\n",
    "        pl.col(\"TRAN_DATE\").dt.date().alias(\"TRAN_ONLY_DATE\"),\n",
    "        pl.col(\"TRAN_DATE\").dt.time().alias(\"TRAN_ONLY_TIME\")\n",
    "    ]).with_columns(\n",
    "        pl.when(\n",
    "            (pl.col(\"TRANSPORT_TYPE_ID\") == 1) & (pl.col(\"BUS_RT_NO\").is_null())\n",
    "        )\n",
    "        .then(-239)\n",
    "        .otherwise(pl.col(\"BUS_RT_NO\"))\n",
    "        .alias(\"BUS_RT_NO\")).with_columns(\n",
    "        pl.col(\"TRAN_DATE\").dt.strftime(\"%A\").alias(\"DAY_NAME\")\n",
    "    )\n",
    "    return result\n",
    "\n",
    "\n",
    "big_data = read_parquet_with_duckdb(parquet_path)\n",
    "big_data.sample()"
   ],
   "id": "1c939828cf81a955",
   "outputs": [
    {
     "data": {
      "text/plain": [
       "shape: (1, 9)\n",
       "┌────────────┬───────────┬────────────┬──────────┬───┬─────────┬────────────┬───────────┬──────────┐\n",
       "│ TRAN_DATE  ┆ DEVICE_NO ┆ TRANSPORT_ ┆ PLACE_ID ┆ … ┆ row_num ┆ TRAN_ONLY_ ┆ TRAN_ONLY ┆ DAY_NAME │\n",
       "│ ---        ┆ ---       ┆ TYPE_ID    ┆ ---      ┆   ┆ ---     ┆ DATE       ┆ _TIME     ┆ ---      │\n",
       "│ datetime[μ ┆ i64       ┆ ---        ┆ i64      ┆   ┆ i64     ┆ ---        ┆ ---       ┆ str      │\n",
       "│ s]         ┆           ┆ i64        ┆          ┆   ┆         ┆ date       ┆ time      ┆          │\n",
       "╞════════════╪═══════════╪════════════╪══════════╪═══╪═════════╪════════════╪═══════════╪══════════╡\n",
       "│ 2025-03-14 ┆ 2135      ┆ 6          ┆ 40338    ┆ … ┆ 6375480 ┆ 2025-03-14 ┆ 20:20:15  ┆ Friday   │\n",
       "│ 20:20:15   ┆           ┆            ┆          ┆   ┆         ┆            ┆           ┆          │\n",
       "└────────────┴───────────┴────────────┴──────────┴───┴─────────┴────────────┴───────────┴──────────┘"
      ],
      "text/html": [
       "<div><style>\n",
       ".dataframe > thead > tr,\n",
       ".dataframe > tbody > tr {\n",
       "  text-align: right;\n",
       "  white-space: pre-wrap;\n",
       "}\n",
       "</style>\n",
       "<small>shape: (1, 9)</small><table border=\"1\" class=\"dataframe\"><thead><tr><th>TRAN_DATE</th><th>DEVICE_NO</th><th>TRANSPORT_TYPE_ID</th><th>PLACE_ID</th><th>BUS_RT_NO</th><th>row_num</th><th>TRAN_ONLY_DATE</th><th>TRAN_ONLY_TIME</th><th>DAY_NAME</th></tr><tr><td>datetime[μs]</td><td>i64</td><td>i64</td><td>i64</td><td>i64</td><td>i64</td><td>date</td><td>time</td><td>str</td></tr></thead><tbody><tr><td>2025-03-14 20:20:15</td><td>2135</td><td>6</td><td>40338</td><td>null</td><td>6375480</td><td>2025-03-14</td><td>20:20:15</td><td>&quot;Friday&quot;</td></tr></tbody></table></div>"
      ]
     },
     "execution_count": 531,
     "metadata": {},
     "output_type": "execute_result"
    }
   ],
   "execution_count": 531
  },
  {
   "metadata": {
    "ExecuteTime": {
     "end_time": "2025-05-29T21:36:25.349637Z",
     "start_time": "2025-05-29T21:36:25.345192Z"
    }
   },
   "cell_type": "code",
   "source": [
    "def show(fig):\n",
    "    fig.update_layout(\n",
    "        coloraxis_showscale=False,\n",
    "        updatemenus=[{\n",
    "            \"type\": \"buttons\",\n",
    "            \"showactive\": False,\n",
    "            \"buttons\": [{\n",
    "                \"label\": \"Play\",\n",
    "                \"method\": \"animate\",\n",
    "                \"args\": [None, {\n",
    "                    \"frame\": {\"duration\": 2000, \"redraw\": True},  # 1000 мс = 1 секунда на кадр\n",
    "                    \"fromcurrent\": True,\n",
    "                    \"transition\": {\"duration\": 500, \"easing\": \"linear\"}  # плавность\n",
    "                }]\n",
    "            }, {\n",
    "                \"label\": \"Pause\",\n",
    "                \"method\": \"animate\",\n",
    "                \"args\": [[None], {\n",
    "                    \"frame\": {\"duration\": 0, \"redraw\": False},\n",
    "                    \"mode\": \"immediate\",\n",
    "                    \"transition\": {\"duration\": 0}\n",
    "                }]\n",
    "            }]\n",
    "        }],\n",
    "        sliders=[{\n",
    "            \"transition\": {\"duration\": 500},\n",
    "            \"currentvalue\": {\"pref\"\n",
    "                             \"ix\": \"День: \"},\n",
    "            \"pad\": {\"t\": 30},\n",
    "            \"len\": 0.9\n",
    "        }],\n",
    "        height=500,\n",
    "        width=1200,\n",
    "    )\n",
    "\n",
    "    fig.show()"
   ],
   "id": "17b1b3b2fcacbb22",
   "outputs": [],
   "execution_count": 532
  },
  {
   "metadata": {
    "ExecuteTime": {
     "end_time": "2025-05-29T21:36:25.457364Z",
     "start_time": "2025-05-29T21:36:25.450882Z"
    }
   },
   "cell_type": "code",
   "source": [
    "def filter_by_time(data, start_dt, end_dt, start_tm, end_tm, continuous):\n",
    "    if continuous:\n",
    "        filtered = data.filter(\n",
    "            (pl.col(\"TRAN_DATE\") >= datetime.strptime(start_dt + \" \" + start_tm, \"%Y-%m-%d %H:%M\")) &\n",
    "            (pl.col(\"TRAN_DATE\") <= datetime.strptime(end_dt + \" \" + end_tm, \"%Y-%m-%d %H:%M\"))\n",
    "        )\n",
    "    else:\n",
    "        filtered = data.filter(\n",
    "            (pl.col(\"TRAN_ONLY_DATE\") >= datetime.strptime(start_dt, \"%Y-%m-%d\").date()) &\n",
    "            (pl.col(\"TRAN_ONLY_DATE\") <= datetime.strptime(end_dt, \"%Y-%m-%d\").date()) &\n",
    "            (pl.col(\"TRAN_ONLY_TIME\") >= datetime.strptime(start_tm, \"%H:%M\").time()) &\n",
    "            (pl.col(\"TRAN_ONLY_TIME\") <= datetime.strptime(end_tm, \"%H:%M\").time())\n",
    "        )\n",
    "    return filtered"
   ],
   "id": "d8744a912c1de29e",
   "outputs": [],
   "execution_count": 533
  },
  {
   "metadata": {
    "ExecuteTime": {
     "end_time": "2025-05-29T21:36:26.618083Z",
     "start_time": "2025-05-29T21:36:25.579438Z"
    }
   },
   "cell_type": "code",
   "source": [
    "overground = read_parquet_with_duckdb(parquet_path, no_metro=True)\n",
    "underground = read_parquet_with_duckdb(parquet_path, no_overground=True)\n"
   ],
   "id": "972937a766fd9108",
   "outputs": [],
   "execution_count": 534
  },
  {
   "metadata": {
    "ExecuteTime": {
     "end_time": "2025-05-29T21:36:26.673237Z",
     "start_time": "2025-05-29T21:36:26.630955Z"
    }
   },
   "cell_type": "code",
   "source": [
    "from datetime import datetime\n",
    "\n",
    "\n",
    "def load_top_stops_overground(top=20, start_dt=\"2025-03-10\", end_dt=\"2025-03-16\", start_tm=\"00:00\",\n",
    "                              end_tm=\"23:59\", continuous=False):\n",
    "    place_lookup = pl.read_csv(data_folder+\"REF_PSG_PLACES_202503251822.csv\", separator=';')\n",
    "    # Фильтрация по времени\n",
    "    try:\n",
    "        filtered = filter_by_time(overground, start_dt, end_dt, start_tm, end_tm, continuous)\n",
    "    except:\n",
    "        return \"Wrong data format\"\n",
    "    # Топ остановок\n",
    "    top_stops = (\n",
    "        filtered.join(\n",
    "            place_lookup.select([\"PLACE_ID\", \"NAME\", \"LN_NAME_SHORT\"]),\n",
    "            left_on=\"PLACE_ID\",\n",
    "            right_on=\"PLACE_ID\",\n",
    "            how=\"left\"\n",
    "        )\n",
    "        .group_by(\"NAME\")\n",
    "        .agg(pl.len().alias(\"count\"))\n",
    "        .sort(\"count\", descending=[True])\n",
    "        .drop_nulls()\n",
    "        .with_columns(\n",
    "            pl.col(\"count\").rank(\"dense\", descending=True).alias(\"rank\")\n",
    "        )\n",
    "        .filter(pl.col(\"rank\") <= top))\n",
    "\n",
    "    return top_stops\n",
    "\n",
    "\n",
    "load_top_stops_overground()\n"
   ],
   "id": "dd227834ec767c1f",
   "outputs": [
    {
     "data": {
      "text/plain": [
       "shape: (20, 3)\n",
       "┌─────────────────────────────────┬───────┬──────┐\n",
       "│ NAME                            ┆ count ┆ rank │\n",
       "│ ---                             ┆ ---   ┆ ---  │\n",
       "│ str                             ┆ u32   ┆ u32  │\n",
       "╞═════════════════════════════════╪═══════╪══════╡\n",
       "│ Южный филиал (1 площадка-Домод… ┆ 43607 ┆ 1    │\n",
       "│ Юго-Западный филиал (1 площадк… ┆ 32225 ┆ 2    │\n",
       "│ Северо-западный филиал (1 площ… ┆ 31327 ┆ 3    │\n",
       "│ Центральный филиал (1 площадка… ┆ 16958 ┆ 4    │\n",
       "│ Северо-Восточный филиал (1 пло… ┆ 16159 ┆ 5    │\n",
       "│ …                               ┆ …     ┆ …    │\n",
       "│ Стартранс (Троицк) 6102         ┆ 6330  ┆ 16   │\n",
       "│ Трансавтолиз (Батюнинский)      ┆ 6240  ┆ 17   │\n",
       "│ Центральный филиал (4 площадка… ┆ 6144  ┆ 18   │\n",
       "│ Северо-Восточный филиал (4 пло… ┆ 6027  ┆ 19   │\n",
       "│ Стартранс Алтуфьевское ш (6101… ┆ 5486  ┆ 20   │\n",
       "└─────────────────────────────────┴───────┴──────┘"
      ],
      "text/html": [
       "<div><style>\n",
       ".dataframe > thead > tr,\n",
       ".dataframe > tbody > tr {\n",
       "  text-align: right;\n",
       "  white-space: pre-wrap;\n",
       "}\n",
       "</style>\n",
       "<small>shape: (20, 3)</small><table border=\"1\" class=\"dataframe\"><thead><tr><th>NAME</th><th>count</th><th>rank</th></tr><tr><td>str</td><td>u32</td><td>u32</td></tr></thead><tbody><tr><td>&quot;Южный филиал (1 площадка-Домод…</td><td>43607</td><td>1</td></tr><tr><td>&quot;Юго-Западный филиал (1 площадк…</td><td>32225</td><td>2</td></tr><tr><td>&quot;Северо-западный филиал (1 площ…</td><td>31327</td><td>3</td></tr><tr><td>&quot;Центральный филиал (1 площадка…</td><td>16958</td><td>4</td></tr><tr><td>&quot;Северо-Восточный филиал (1 пло…</td><td>16159</td><td>5</td></tr><tr><td>&hellip;</td><td>&hellip;</td><td>&hellip;</td></tr><tr><td>&quot;Стартранс (Троицк) 6102&quot;</td><td>6330</td><td>16</td></tr><tr><td>&quot;Трансавтолиз (Батюнинский)&quot;</td><td>6240</td><td>17</td></tr><tr><td>&quot;Центральный филиал (4 площадка…</td><td>6144</td><td>18</td></tr><tr><td>&quot;Северо-Восточный филиал (4 пло…</td><td>6027</td><td>19</td></tr><tr><td>&quot;Стартранс Алтуфьевское ш (6101…</td><td>5486</td><td>20</td></tr></tbody></table></div>"
      ]
     },
     "execution_count": 535,
     "metadata": {},
     "output_type": "execute_result"
    }
   ],
   "execution_count": 535
  },
  {
   "metadata": {
    "ExecuteTime": {
     "end_time": "2025-05-29T21:36:26.806390Z",
     "start_time": "2025-05-29T21:36:26.724431Z"
    }
   },
   "cell_type": "code",
   "source": [
    "def load_top_stops_underground(top=20, start_dt=\"2025-03-10\", end_dt=\"2025-03-16\", start_tm=\"00:00\",\n",
    "                               end_tm=\"23:59\", continuous=False):\n",
    "    try:\n",
    "        place_lookup = pl.read_csv(data_folder + \"REF_PSG_PLACES_202503251822.csv\", separator=';')\n",
    "    except FileNotFoundError:\n",
    "        return \"No file to look up places: REF_PSG_PLACES_202503251822.csv\"\n",
    "\n",
    "    try:\n",
    "        filtered = filter_by_time(underground, start_dt, end_dt, start_tm, end_tm, continuous)\n",
    "    except:\n",
    "        return \"Wrong data format\"\n",
    "    top_stops = (\n",
    "        filtered.join(\n",
    "            place_lookup.select([\"PLACE_ID\", \"NAME\", \"LN_NAME_SHORT\"]),\n",
    "            left_on=\"PLACE_ID\",\n",
    "            right_on=\"PLACE_ID\",\n",
    "            how=\"left\"\n",
    "        )\n",
    "        .group_by(\"PLACE_ID\", \"NAME\", \"LN_NAME_SHORT\")\n",
    "        .agg(pl.len().alias(\"count\"))\n",
    "        .sort(\"count\", descending=[True])\n",
    "        .drop_nulls()\n",
    "        .with_columns(\n",
    "            pl.col(\"count\").rank(\"dense\", descending=True).alias(\"rank\")\n",
    "        )\n",
    "        .filter(pl.col(\"rank\") <= top))\n",
    "\n",
    "    return top_stops\n",
    "\n",
    "\n",
    "load_top_stops_underground()"
   ],
   "id": "c7c4fea3fdcb41d4",
   "outputs": [
    {
     "data": {
      "text/plain": [
       "shape: (22, 5)\n",
       "┌──────────┬─────────────────────────────┬────────────────────────────┬───────┬──────┐\n",
       "│ PLACE_ID ┆ NAME                        ┆ LN_NAME_SHORT              ┆ count ┆ rank │\n",
       "│ ---      ┆ ---                         ┆ ---                        ┆ ---   ┆ ---  │\n",
       "│ i64      ┆ str                         ┆ str                        ┆ u32   ┆ u32  │\n",
       "╞══════════╪═════════════════════════════╪════════════════════════════╪═══════╪══════╡\n",
       "│ 1327     ┆ Щёлковская ( Северный )     ┆ Арбатско-Покровская        ┆ 4007  ┆ 1    │\n",
       "│ 1459     ┆ Павелецкая КЛ               ┆ Кольцевая                  ┆ 3799  ┆ 2    │\n",
       "│ 1294     ┆ Бауманская                  ┆ Арбатско-Покровская        ┆ 3798  ┆ 3    │\n",
       "│ 1691     ┆ Текстильщики (Западный)     ┆ Таганско-Краснопресненская ┆ 3734  ┆ 4    │\n",
       "│ 1322     ┆ Славянский бульвар (Восток) ┆ Арбатско-Покровская        ┆ 3585  ┆ 5    │\n",
       "│ …        ┆ …                           ┆ …                          ┆ …     ┆ …    │\n",
       "│ 1670     ┆ Кузьминки (Восточный)       ┆ Таганско-Краснопресненская ┆ 2507  ┆ 17   │\n",
       "│ 38954    ┆ Некрасовка (Первый)         ┆ Некрасовская               ┆ 2498  ┆ 18   │\n",
       "│ 1461     ┆ Парк культуры КЛ            ┆ Кольцевая                  ┆ 2489  ┆ 19   │\n",
       "│ 38956    ┆ Нижегородская (первый)      ┆ Некрасовская               ┆ 2489  ┆ 19   │\n",
       "│ 1694     ┆ Улица 1905 года (Первый)    ┆ Таганско-Краснопресненская ┆ 2466  ┆ 20   │\n",
       "└──────────┴─────────────────────────────┴────────────────────────────┴───────┴──────┘"
      ],
      "text/html": [
       "<div><style>\n",
       ".dataframe > thead > tr,\n",
       ".dataframe > tbody > tr {\n",
       "  text-align: right;\n",
       "  white-space: pre-wrap;\n",
       "}\n",
       "</style>\n",
       "<small>shape: (22, 5)</small><table border=\"1\" class=\"dataframe\"><thead><tr><th>PLACE_ID</th><th>NAME</th><th>LN_NAME_SHORT</th><th>count</th><th>rank</th></tr><tr><td>i64</td><td>str</td><td>str</td><td>u32</td><td>u32</td></tr></thead><tbody><tr><td>1327</td><td>&quot;Щёлковская ( Северный )&quot;</td><td>&quot;Арбатско-Покровская&quot;</td><td>4007</td><td>1</td></tr><tr><td>1459</td><td>&quot;Павелецкая КЛ&quot;</td><td>&quot;Кольцевая&quot;</td><td>3799</td><td>2</td></tr><tr><td>1294</td><td>&quot;Бауманская&quot;</td><td>&quot;Арбатско-Покровская&quot;</td><td>3798</td><td>3</td></tr><tr><td>1691</td><td>&quot;Текстильщики (Западный)&quot;</td><td>&quot;Таганско-Краснопресненская&quot;</td><td>3734</td><td>4</td></tr><tr><td>1322</td><td>&quot;Славянский бульвар (Восток)&quot;</td><td>&quot;Арбатско-Покровская&quot;</td><td>3585</td><td>5</td></tr><tr><td>&hellip;</td><td>&hellip;</td><td>&hellip;</td><td>&hellip;</td><td>&hellip;</td></tr><tr><td>1670</td><td>&quot;Кузьминки (Восточный)&quot;</td><td>&quot;Таганско-Краснопресненская&quot;</td><td>2507</td><td>17</td></tr><tr><td>38954</td><td>&quot;Некрасовка (Первый)&quot;</td><td>&quot;Некрасовская&quot;</td><td>2498</td><td>18</td></tr><tr><td>1461</td><td>&quot;Парк культуры КЛ&quot;</td><td>&quot;Кольцевая&quot;</td><td>2489</td><td>19</td></tr><tr><td>38956</td><td>&quot;Нижегородская (первый)&quot;</td><td>&quot;Некрасовская&quot;</td><td>2489</td><td>19</td></tr><tr><td>1694</td><td>&quot;Улица 1905 года (Первый)&quot;</td><td>&quot;Таганско-Краснопресненская&quot;</td><td>2466</td><td>20</td></tr></tbody></table></div>"
      ]
     },
     "execution_count": 536,
     "metadata": {},
     "output_type": "execute_result"
    }
   ],
   "execution_count": 536
  },
  {
   "metadata": {
    "ExecuteTime": {
     "end_time": "2025-05-29T21:36:26.937853Z",
     "start_time": "2025-05-29T21:36:26.880861Z"
    }
   },
   "cell_type": "code",
   "source": [
    "def load_top_routes_overground(top=20, start_dt=\"2025-03-10\", end_dt=\"2025-03-16\", start_tm=\"00:00\",\n",
    "                               end_tm=\"23:59\", continuous=False, popularity=False):\n",
    "    route_lookup = pl.read_csv(data_folder + \"REF_TRANSPORT_WAY_202503251803.csv\", separator=';')\n",
    "    transport_type_lookup = pl.read_csv(data_folder + \"REF_TRANSPORT_TYPE_202503251727.csv\", separator=';')\n",
    "\n",
    "    filtered = filter_by_time(overground, start_dt, end_dt, start_tm, end_tm, continuous)\n",
    "    top_routes = (\n",
    "        filtered.join(\n",
    "            route_lookup.select([\"WAY_ID\", \"NAME\", \"TRANSPORT_ID\"]),\n",
    "            left_on=\"BUS_RT_NO\",\n",
    "            right_on=\"WAY_ID\",\n",
    "            how=\"left\").filter(pl.col(\"BUS_RT_NO\").is_not_null())\n",
    "        .group_by([\n",
    "            \"BUS_RT_NO\", \"NAME\", \"TRANSPORT_ID\",\n",
    "        ])\n",
    "        .agg([pl.len().alias(\"count\"),\n",
    "              pl.col(\"DEVICE_NO\").n_unique().alias(\"vehicle_count\")\n",
    "              ])\n",
    "        .drop_nulls()\n",
    "        .with_columns([\n",
    "            (pl.col(\"count\") / pl.col(\"vehicle_count\")).alias(\"rides_per_vehicle\")\n",
    "        ])\n",
    "        .with_columns([\n",
    "            pl.col(\"count\").rank(\"dense\", descending=True).alias(\"popularity\"),\n",
    "            pl.col(\"rides_per_vehicle\").rank(\"dense\", descending=True).alias(\"overload\")]\n",
    "        ).join(\n",
    "            transport_type_lookup, left_on=\"TRANSPORT_ID\", right_on=\"TRANSPORT_ID\", how=\"left\"\n",
    "        )\n",
    "    )\n",
    "    if popularity:\n",
    "        return top_routes.filter(pl.col(\"popularity\") <= top)\n",
    "    else:\n",
    "        return top_routes.filter(pl.col(\"overload\") <= top)\n",
    "\n",
    "\n",
    "load_top_routes_overground()\n",
    "\n"
   ],
   "id": "6a2179724fca4345",
   "outputs": [
    {
     "data": {
      "text/plain": [
       "shape: (20, 9)\n",
       "┌───────────┬────────────┬────────────┬───────┬───┬────────────┬────────────┬──────────┬───────────┐\n",
       "│ BUS_RT_NO ┆ NAME       ┆ TRANSPORT_ ┆ count ┆ … ┆ rides_per_ ┆ popularity ┆ overload ┆ NAME_righ │\n",
       "│ ---       ┆ ---        ┆ ID         ┆ ---   ┆   ┆ vehicle    ┆ ---        ┆ ---      ┆ t         │\n",
       "│ i64       ┆ str        ┆ ---        ┆ u32   ┆   ┆ ---        ┆ u32        ┆ u32      ┆ ---       │\n",
       "│           ┆            ┆ i64        ┆       ┆   ┆ f64        ┆            ┆          ┆ str       │\n",
       "╞═══════════╪════════════╪════════════╪═══════╪═══╪════════════╪════════════╪══════════╪═══════════╡\n",
       "│ 707       ┆ 710        ┆ 2          ┆ 445   ┆ … ┆ 8.9        ┆ 110        ┆ 16       ┆ Автобус   │\n",
       "│           ┆ автобус    ┆            ┆       ┆   ┆            ┆            ┆          ┆           │\n",
       "│ 1913      ┆ АЛМ01      ┆ 2          ┆ 1004  ┆ … ┆ 10.141414  ┆ 30         ┆ 9        ┆ Автобус   │\n",
       "│           ┆ автобус    ┆            ┆       ┆   ┆            ┆            ┆          ┆           │\n",
       "│ 937       ┆ 878        ┆ 2          ┆ 1551  ┆ … ┆ 10.696552  ┆ 14         ┆ 8        ┆ Автобус   │\n",
       "│           ┆ автобус    ┆            ┆       ┆   ┆            ┆            ┆          ┆           │\n",
       "│           ┆ пригород   ┆            ┆       ┆   ┆            ┆            ┆          ┆           │\n",
       "│           ┆ МО         ┆            ┆       ┆   ┆            ┆            ┆          ┆           │\n",
       "│ 223       ┆ 225        ┆ 2          ┆ 895   ┆ … ┆ 9.835165   ┆ 41         ┆ 10       ┆ Автобус   │\n",
       "│           ┆ автобус    ┆            ┆       ┆   ┆            ┆            ┆          ┆           │\n",
       "│ 2097      ┆ ЧСбТ01     ┆ 2          ┆ 757   ┆ … ┆ 8.602273   ┆ 62         ┆ 19       ┆ Автобус   │\n",
       "│           ┆ автобус    ┆            ┆       ┆   ┆            ┆            ┆          ┆           │\n",
       "│ …         ┆ …          ┆ …          ┆ …     ┆ … ┆ …          ┆ …          ┆ …        ┆ …         │\n",
       "│ 533       ┆ 035        ┆ 2          ┆ 59    ┆ … ┆ 11.8       ┆ 304        ┆ 3        ┆ Автобус   │\n",
       "│           ┆ автобус    ┆            ┆       ┆   ┆            ┆            ┆          ┆           │\n",
       "│ 68        ┆ 68 автобус ┆ 2          ┆ 162   ┆ … ┆ 12.461538  ┆ 231        ┆ 2        ┆ Автобус   │\n",
       "│ 1263      ┆ 886        ┆ 2          ┆ 882   ┆ … ┆ 9.692308   ┆ 42         ┆ 12       ┆ Автобус   │\n",
       "│           ┆ автобус    ┆            ┆       ┆   ┆            ┆            ┆          ┆           │\n",
       "│ 247       ┆ 249        ┆ 2          ┆ 738   ┆ … ┆ 11.181818  ┆ 63         ┆ 4        ┆ Автобус   │\n",
       "│           ┆ автобус    ┆            ┆       ┆   ┆            ┆            ┆          ┆           │\n",
       "│ 605       ┆ 608        ┆ 2          ┆ 1534  ┆ … ┆ 8.715909   ┆ 15         ┆ 18       ┆ Автобус   │\n",
       "│           ┆ автобус    ┆            ┆       ┆   ┆            ┆            ┆          ┆           │\n",
       "└───────────┴────────────┴────────────┴───────┴───┴────────────┴────────────┴──────────┴───────────┘"
      ],
      "text/html": [
       "<div><style>\n",
       ".dataframe > thead > tr,\n",
       ".dataframe > tbody > tr {\n",
       "  text-align: right;\n",
       "  white-space: pre-wrap;\n",
       "}\n",
       "</style>\n",
       "<small>shape: (20, 9)</small><table border=\"1\" class=\"dataframe\"><thead><tr><th>BUS_RT_NO</th><th>NAME</th><th>TRANSPORT_ID</th><th>count</th><th>vehicle_count</th><th>rides_per_vehicle</th><th>popularity</th><th>overload</th><th>NAME_right</th></tr><tr><td>i64</td><td>str</td><td>i64</td><td>u32</td><td>u32</td><td>f64</td><td>u32</td><td>u32</td><td>str</td></tr></thead><tbody><tr><td>707</td><td>&quot;710 автобус&quot;</td><td>2</td><td>445</td><td>50</td><td>8.9</td><td>110</td><td>16</td><td>&quot;Автобус&quot;</td></tr><tr><td>1913</td><td>&quot;АЛМ01 автобус&quot;</td><td>2</td><td>1004</td><td>99</td><td>10.141414</td><td>30</td><td>9</td><td>&quot;Автобус&quot;</td></tr><tr><td>937</td><td>&quot;878 автобус пригород МО&quot;</td><td>2</td><td>1551</td><td>145</td><td>10.696552</td><td>14</td><td>8</td><td>&quot;Автобус&quot;</td></tr><tr><td>223</td><td>&quot;225 автобус&quot;</td><td>2</td><td>895</td><td>91</td><td>9.835165</td><td>41</td><td>10</td><td>&quot;Автобус&quot;</td></tr><tr><td>2097</td><td>&quot;ЧСбТ01 автобус&quot;</td><td>2</td><td>757</td><td>88</td><td>8.602273</td><td>62</td><td>19</td><td>&quot;Автобус&quot;</td></tr><tr><td>&hellip;</td><td>&hellip;</td><td>&hellip;</td><td>&hellip;</td><td>&hellip;</td><td>&hellip;</td><td>&hellip;</td><td>&hellip;</td><td>&hellip;</td></tr><tr><td>533</td><td>&quot;035 автобус&quot;</td><td>2</td><td>59</td><td>5</td><td>11.8</td><td>304</td><td>3</td><td>&quot;Автобус&quot;</td></tr><tr><td>68</td><td>&quot;68 автобус&quot;</td><td>2</td><td>162</td><td>13</td><td>12.461538</td><td>231</td><td>2</td><td>&quot;Автобус&quot;</td></tr><tr><td>1263</td><td>&quot;886 автобус&quot;</td><td>2</td><td>882</td><td>91</td><td>9.692308</td><td>42</td><td>12</td><td>&quot;Автобус&quot;</td></tr><tr><td>247</td><td>&quot;249 автобус&quot;</td><td>2</td><td>738</td><td>66</td><td>11.181818</td><td>63</td><td>4</td><td>&quot;Автобус&quot;</td></tr><tr><td>605</td><td>&quot;608 автобус&quot;</td><td>2</td><td>1534</td><td>176</td><td>8.715909</td><td>15</td><td>18</td><td>&quot;Автобус&quot;</td></tr></tbody></table></div>"
      ]
     },
     "execution_count": 537,
     "metadata": {},
     "output_type": "execute_result"
    }
   ],
   "execution_count": 537
  },
  {
   "metadata": {
    "ExecuteTime": {
     "end_time": "2025-05-29T21:36:27.042267Z",
     "start_time": "2025-05-29T21:36:27.038333Z"
    }
   },
   "cell_type": "code",
   "source": [
    "def plot(data: pl.DataFrame, x: str, y: str, title=\"\", color=None, do_show=False):\n",
    "    df_pandas = data.to_pandas()\n",
    "    if color == None:\n",
    "        fig = px.bar(\n",
    "            df_pandas,\n",
    "            x=x,\n",
    "            y=y,\n",
    "            title=title,\n",
    "        )\n",
    "    else:\n",
    "        fig = px.bar(\n",
    "            df_pandas,\n",
    "            x=x,\n",
    "            y=y,\n",
    "            title=title,\n",
    "            color=color,\n",
    "        )\n",
    "\n",
    "    fig.update_layout(\n",
    "        xaxis_title=\"Остановка\",\n",
    "        yaxis_title=\"Количество поездок\",\n",
    "        xaxis_categoryorder=\"total descending\",\n",
    "        xaxis_tickangle=-45,\n",
    "        margin=dict(t=50, b=100),\n",
    "        coloraxis_showscale=False\n",
    "    )\n",
    "    if do_show:\n",
    "        show(fig)\n",
    "\n",
    "    return fig"
   ],
   "id": "86f13375e3d76bf9",
   "outputs": [],
   "execution_count": 538
  },
  {
   "metadata": {
    "ExecuteTime": {
     "end_time": "2025-05-29T21:36:27.168126Z",
     "start_time": "2025-05-29T21:36:27.162711Z"
    }
   },
   "cell_type": "code",
   "source": [
    "def output_size():\n",
    "    return html.Div([\n",
    "        dcc.Input(id='top-number', type='text', value='20'),\n",
    "        html.Span(\"Размер вывода\", className=\"\"),\n",
    "    ], className=\"field border max\", style={'padding': 10})\n",
    "\n"
   ],
   "id": "9fa31c489d7280c9",
   "outputs": [],
   "execution_count": 539
  },
  {
   "metadata": {
    "ExecuteTime": {
     "end_time": "2025-05-29T21:36:27.267031Z",
     "start_time": "2025-05-29T21:36:27.262825Z"
    }
   },
   "cell_type": "code",
   "source": [
    "\n",
    "def date_picker(min_date, max_date):\n",
    "    return html.Div([\n",
    "        html.Div([\n",
    "            dcc.DatePickerRange(\n",
    "                id='date-picker',\n",
    "                min_date_allowed=min_date,\n",
    "                max_date_allowed=max_date,\n",
    "                start_date=min_date,\n",
    "                end_date=max_date,\n",
    "                className=\"center transparent-datepicker\",\n",
    "                style={'background-color': 'transparent'},\n",
    "            ), ]),\n",
    "        html.Span(\n",
    "            \"Дата от/до\",\n",
    "            className=\"\",\n",
    "            style={\n",
    "                'display': 'block',\n",
    "                'textAlign': 'center',\n",
    "                'margin': '0 auto'\n",
    "            }),\n",
    "    ], className=\"column\", style={'padding': 10})\n"
   ],
   "id": "a90d937ae4605a9c",
   "outputs": [],
   "execution_count": 540
  },
  {
   "metadata": {
    "ExecuteTime": {
     "end_time": "2025-05-29T21:36:27.328634Z",
     "start_time": "2025-05-29T21:36:27.324417Z"
    }
   },
   "cell_type": "code",
   "source": [
    "\n",
    "def time_picker():\n",
    "    return html.Div([\n",
    "        html.Div([\n",
    "            html.Div([\n",
    "                html.Div([\n",
    "                    dcc.Input(id='start-time', type='text', value='00:00', className=\"\"),\n",
    "                    html.Span(\"Начало\", className=\"\"),\n",
    "                ], className=\"field border max\")\n",
    "            ], className=\"max\"),\n",
    "            html.Div([\n",
    "                html.Div([\n",
    "                    dcc.Input(id='end-time', type='text', value='23:59', className=\"\"),\n",
    "                    html.Span(\"Конец\", className=\"\"),\n",
    "                ], className=\"field border max\")\n",
    "            ], className=\"max\"),\n",
    "        ], className=\"row\")\n",
    "    ], style={'padding': 10})"
   ],
   "id": "65d3b49236b9ff63",
   "outputs": [],
   "execution_count": 541
  },
  {
   "metadata": {
    "ExecuteTime": {
     "end_time": "2025-05-29T21:36:27.395919Z",
     "start_time": "2025-05-29T21:36:27.388610Z"
    }
   },
   "cell_type": "code",
   "source": [
    "def time_segment_type():\n",
    "    html.Div([\n",
    "        html.Label(\"Тип временного отрезка\"),\n",
    "        dcc.RadioItems(\n",
    "\n",
    "            labelStyle={'display': 'inline-block', 'marginLeft': '15px'},\n",
    "            className='horizontal',\n",
    "        ),\n",
    "    ], style={'marginBottom': 10})\n",
    "\n",
    "    return html.Div([\n",
    "        html.Div([\n",
    "            dcc.Dropdown(\n",
    "                id='time-type',\n",
    "                options=[\n",
    "                    {'label': 'Непрерывно', 'value': 'h0'},\n",
    "                    {'label': 'Кусочно', 'value': 'h1'},\n",
    "                ],\n",
    "                value='h0',\n",
    "                className=\"beer\",\n",
    "                style={'backgroundColor': 'transparent'},\n",
    "            ),\n",
    "            html.Span(\"Выбор отсчёта времени\", className=\"\",\n",
    "                      style={'display': 'inline-block', 'marginTop': '-15px'}),\n",
    "        ], className=\"field border\")\n",
    "    ], className=\"max\", style={'padding-right': 10})"
   ],
   "id": "c85f1ca8ccc0c674",
   "outputs": [],
   "execution_count": 542
  },
  {
   "metadata": {
    "ExecuteTime": {
     "end_time": "2025-05-29T21:36:27.445209Z",
     "start_time": "2025-05-29T21:36:27.441718Z"
    }
   },
   "cell_type": "code",
   "source": [
    "def graph_type():\n",
    "    return html.Div([\n",
    "        html.Div([\n",
    "            dcc.Dropdown(\n",
    "                id='data-source',\n",
    "                options=[\n",
    "                    {'label': 'Маршруты популярность', 'value': 't0'},\n",
    "                    {'label': 'Маршруты перегруженность', 'value': 't1'},\n",
    "                    {'label': 'Остановки', 'value': 't2'},\n",
    "                    {'label': 'Метро популярность', 'value': 't3'},\n",
    "                ],\n",
    "                value='t0',  # Начальное значение\n",
    "                className=\"beer\",\n",
    "                style={'backgroundColor': 'transparent'},\n",
    "\n",
    "            ),\n",
    "            html.Span(\"Выбор графика\", className=\"\", style={'display': 'inline-block', 'marginTop': '-15px'}),\n",
    "        ], className=\"field border\")\n",
    "    ], className=\"max\", style={'padding-left': 10})"
   ],
   "id": "56f77359bbeab38e",
   "outputs": [],
   "execution_count": 543
  },
  {
   "metadata": {
    "ExecuteTime": {
     "end_time": "2025-05-29T21:36:27.498026Z",
     "start_time": "2025-05-29T21:36:27.495054Z"
    }
   },
   "cell_type": "code",
   "source": [
    "def submit_button():\n",
    "    return html.Div([html.Button(\"Построить график\", id='submit-button', n_clicks=0),\n",
    "                     ], className=\"\")"
   ],
   "id": "805bdea1501ee1db",
   "outputs": [],
   "execution_count": 544
  },
  {
   "metadata": {
    "ExecuteTime": {
     "end_time": "2025-05-29T21:36:27.552949Z",
     "start_time": "2025-05-29T21:36:27.546975Z"
    }
   },
   "cell_type": "code",
   "source": [
    "def layout(df):\n",
    "    return html.Div([\n",
    "        html.Div(className=\"l2\"),\n",
    "        html.Div([\n",
    "            html.Br(),\n",
    "            html.H3(\n",
    "                \"Инфографика транспорта Москвы\",\n",
    "                className=\"center\",\n",
    "                style={\"color\": \"orange\", \"textAlign\": \"center\"},\n",
    "            ),\n",
    "\n",
    "            html.Fieldset([\n",
    "                date_picker(df[\"TRAN_ONLY_DATE\"].min(), df[\"TRAN_ONLY_DATE\"].max()),\n",
    "                time_picker(),\n",
    "                html.Br(),\n",
    "\n",
    "                html.Div([\n",
    "                    graph_type(),\n",
    "                    time_segment_type(), ], className=\"row\"),\n",
    "                html.Br(),\n",
    "                html.Div([\n",
    "                    output_size(),\n",
    "                    submit_button(), ], className=\"row\"),\n",
    "                html.Br(),\n",
    "\n",
    "            ]),\n",
    "            dcc.Graph(id='graph', style={'width': '100%'}), ]\n",
    "            , className=\"l8\"),\n",
    "        html.Div(className=\"l2\"),\n",
    "\n",
    "    ], className=\"grid\")"
   ],
   "id": "4bb7cd1a51e99cee",
   "outputs": [],
   "execution_count": 545
  },
  {
   "metadata": {
    "ExecuteTime": {
     "end_time": "2025-05-29T21:36:27.674970Z",
     "start_time": "2025-05-29T21:36:27.599011Z"
    }
   },
   "cell_type": "code",
   "source": [
    "from dash import Dash, dcc, html, Input, Output, State\n",
    "import plotly.express as px\n",
    "import pandas as pd\n",
    "\n",
    "\n",
    "def application(df):\n",
    "    app = Dash(__name__)\n",
    "    app.layout = layout(df)\n",
    "\n",
    "    @app.callback(\n",
    "        Output('graph', 'figure'),\n",
    "        Input('submit-button', 'n_clicks'),\n",
    "        State('date-picker', 'start_date'),\n",
    "        State('date-picker', 'end_date'),\n",
    "        State('start-time', 'value'),\n",
    "        State('end-time', 'value'),\n",
    "        State(\"data-source\", \"value\"),\n",
    "        State('top-number', 'value'),\n",
    "        State('time-type', 'value'),\n",
    "    )\n",
    "    def update_graph(n_clicks, start_date, end_date, start_time_str, end_time_str, data_source, top_number, time_type):\n",
    "        if not n_clicks or data_source == 't-1':\n",
    "            return px.scatter(title=\"Выберите параметры и нажмите кнопку\")\n",
    "\n",
    "        continuous = True\n",
    "        if time_type == 'h1':\n",
    "            continuous = False\n",
    "\n",
    "        try:\n",
    "            top_number = int(top_number)\n",
    "            start_dt = pd.to_datetime(f\"{start_date} {start_time_str}\")\n",
    "            end_dt = pd.to_datetime(f\"{end_date} {end_time_str}\")\n",
    "        except Exception as e:\n",
    "            return px.scatter(title=f\"Ошибка в формате даты/времени: {e}\")\n",
    "\n",
    "        if data_source == 't0':\n",
    "            data = load_top_routes_overground(top_number, start_date, end_date, start_time_str, end_time_str,\n",
    "                                              continuous,\n",
    "                                              True)\n",
    "            fig = plot(data, \"NAME\", \"count\", color=\"NAME_right\")\n",
    "        elif data_source == 't1':\n",
    "            data = load_top_routes_overground(top_number, start_date, end_date, start_time_str, end_time_str,\n",
    "                                              continuous,\n",
    "                                              False)\n",
    "            fig = plot(data, \"NAME\", \"rides_per_vehicle\", color=\"NAME_right\")\n",
    "        elif data_source == 't2':\n",
    "            data = load_top_stops_overground(top_number, start_date, end_date, start_time_str, end_time_str, continuous)\n",
    "            print(\"dadddddddddd\")\n",
    "            fig = plot(data, \"NAME\", \"count\", )\n",
    "        elif data_source == 't3':\n",
    "            data = load_top_stops_underground(top_number, start_date, end_date, start_time_str, end_time_str,\n",
    "                                              continuous)\n",
    "            fig = plot(data, \"NAME\", \"count\", color=\"LN_NAME_SHORT\")\n",
    "\n",
    "        return fig\n",
    "\n",
    "    app.run(mode='external', port=8239)\n",
    "\n",
    "\n",
    "\n",
    "application(big_data)"
   ],
   "id": "c8efd58a6fe7cd87",
   "outputs": [
    {
     "data": {
      "text/plain": [
       "<IPython.lib.display.IFrame at 0x79d66f14a5f0>"
      ],
      "text/html": [
       "\n",
       "        <iframe\n",
       "            width=\"100%\"\n",
       "            height=\"650\"\n",
       "            src=\"http://127.0.0.1:8239/\"\n",
       "            frameborder=\"0\"\n",
       "            allowfullscreen\n",
       "            \n",
       "        ></iframe>\n",
       "        "
      ]
     },
     "metadata": {},
     "output_type": "display_data"
    }
   ],
   "execution_count": 546
  },
  {
   "metadata": {
    "ExecuteTime": {
     "end_time": "2025-05-29T21:36:27.692165Z",
     "start_time": "2025-05-29T21:36:27.689900Z"
    }
   },
   "cell_type": "code",
   "source": "",
   "id": "5b689d0b550b9e4e",
   "outputs": [],
   "execution_count": null
  },
  {
   "metadata": {
    "ExecuteTime": {
     "end_time": "2025-05-29T21:36:27.751450Z",
     "start_time": "2025-05-29T21:36:27.747872Z"
    }
   },
   "cell_type": "code",
   "source": "",
   "id": "c559660bda495a7f",
   "outputs": [],
   "execution_count": null
  },
  {
   "metadata": {
    "ExecuteTime": {
     "end_time": "2025-05-29T21:36:27.853191Z",
     "start_time": "2025-05-29T21:36:27.849368Z"
    }
   },
   "cell_type": "code",
   "source": "",
   "id": "a7fbf9304f7761eb",
   "outputs": [],
   "execution_count": null
  }
 ],
 "metadata": {
  "kernelspec": {
   "display_name": "Python 3",
   "language": "python",
   "name": "python3"
  },
  "language_info": {
   "codemirror_mode": {
    "name": "ipython",
    "version": 2
   },
   "file_extension": ".py",
   "mimetype": "text/x-python",
   "name": "python",
   "nbconvert_exporter": "python",
   "pygments_lexer": "ipython2",
   "version": "2.7.6"
  }
 },
 "nbformat": 4,
 "nbformat_minor": 5
}
